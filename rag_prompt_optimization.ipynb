{
 "cells": [
  {
   "cell_type": "code",
   "execution_count": null,
   "metadata": {},
   "outputs": [
    {
     "name": "stdout",
     "output_type": "stream",
     "text": [
      "['For nine consecutive days, that is from around April 27 to May 6, the Sudan Armed Forces (SAF)  and the RSF have exchanged artillery shelling,  using Katyusha rockets and various shells, in Babanusa, West Kordofan. The fighting further destroyed the city that many residents had already left.\\nAccording to sources consulted by Sudan War Monitor, the SAF were inside the 22nd Infantry Division base, the last military installation of the Sudan Army’s control in West Kordofan, while the RSF troops fought from the outskirts of the city, sheltering  in residents’ homes and under trees to avoid aircraft bombardment. According to the Sudan War Monitor’s sources, the bombing damaged many civilians’ homes in which RSF fighters were sheltering. The neighborhoods of Al-Salam South, Al-Tarbiyah, Abu Ismail South, Al-Sahafa East, Al-Sahafa West, and the Babanusa Dairy Factory neighborhood were those where homes were most completely and partially damaged. In addition, government institutions and facilities, such as the buildings of the Sudan Railway Authority (Western Region Headquarters), some schools, and water sources were also damaged.\\nOn May 3rd, according to information received from the Babanusa Emergency Room, four members of the same family were killed as a result of the  violent artillery shelling carried out by the RSF on the Sudan Armed Forces who control the 22nd Infantry Division Headquarters. The family had sought refuge in the 22nd Infantry Division. As a reminder, Babanusa has been the theater of several violent clashes between the RSF and the Sudanese Army since 2023.According to the same sources the shelling also, injured or killed a large number of livestock as well as fighters on both the RSF and SAF sides. At least, three RSF fighters and two Army soldiers of the Artillery Corps were killed. So, in total, besides the destruction of homes, there were at least  5 combattants and 4 civilians killed.']\n"
     ]
    },
    {
     "data": {
      "application/vnd.jupyter.widget-view+json": {
       "model_id": "f87784be7b4a4c3893bf6d9a1306bd38",
       "version_major": 2,
       "version_minor": 0
      },
      "text/plain": [
       "Parsing nodes:   0%|          | 0/1 [00:00<?, ?it/s]"
      ]
     },
     "metadata": {},
     "output_type": "display_data"
    },
    {
     "data": {
      "application/vnd.jupyter.widget-view+json": {
       "model_id": "37a044e795a94012a09b09c406a20950",
       "version_major": 2,
       "version_minor": 0
      },
      "text/plain": [
       "Generating embeddings:   0%|          | 0/1 [00:00<?, ?it/s]"
      ]
     },
     "metadata": {},
     "output_type": "display_data"
    },
    {
     "name": "stdout",
     "output_type": "stream",
     "text": [
      "['On Sunday, May 5th ,Sudanese warplanes conducted airstrikes  targeting agricultural fields where RSF elements are reported located, near Shabarqa, a  critical RSF stronghold and strategic town that is located approximately 25 kilometres East of Wad Madani, El Gezira (aka Al Jazeera) state. Capturing Shabarqa, according to local sources, would open the path towards the Hantoub Bridge on the Blue Nile for the Army.']\n"
     ]
    },
    {
     "data": {
      "application/vnd.jupyter.widget-view+json": {
       "model_id": "7454e6b648654aec98f23a249e191c5f",
       "version_major": 2,
       "version_minor": 0
      },
      "text/plain": [
       "Parsing nodes:   0%|          | 0/1 [00:00<?, ?it/s]"
      ]
     },
     "metadata": {},
     "output_type": "display_data"
    },
    {
     "data": {
      "application/vnd.jupyter.widget-view+json": {
       "model_id": "b2e71f2776d747c5aa77d143bd7ad038",
       "version_major": 2,
       "version_minor": 0
      },
      "text/plain": [
       "Generating embeddings:   0%|          | 0/1 [00:00<?, ?it/s]"
      ]
     },
     "metadata": {},
     "output_type": "display_data"
    },
    {
     "ename": "KeyError",
     "evalue": "'0'",
     "output_type": "error",
     "traceback": [
      "\u001b[1;31m---------------------------------------------------------------------------\u001b[0m",
      "\u001b[1;31mKeyError\u001b[0m                                  Traceback (most recent call last)",
      "Cell \u001b[1;32mIn[1], line 74\u001b[0m\n\u001b[0;32m     58\u001b[0m \u001b[38;5;66;03m#query = \"\"\"Identify the geographic locations and dates where the incidents occurred in the format 'country, state, location, specifics about the location, mm/dd/yyyy'. \u001b[39;00m\n\u001b[0;32m     59\u001b[0m \u001b[38;5;66;03m#Ensure that each line includes the complete location and its corresponding date, separated by a comma. \u001b[39;00m\n\u001b[0;32m     60\u001b[0m \u001b[38;5;66;03m#For example, if the incident occurred in El Fasher, the capital of North Darfur, and the actual incidents took place in Al Salam Neighbourhood, \u001b[39;00m\n\u001b[1;32m   (...)\u001b[0m\n\u001b[0;32m     63\u001b[0m \u001b[38;5;66;03m#Make sure to include only the real date associated with the incident. If there is no date available, do not insert a placeholder date. \u001b[39;00m\n\u001b[0;32m     64\u001b[0m \u001b[38;5;66;03m#List each location and its corresponding date on a separate line. Do not include any explanations or additional information in the output.\"\"\"\u001b[39;00m\n\u001b[0;32m     67\u001b[0m query \u001b[38;5;241m=\u001b[39m \u001b[38;5;124m\"\"\"\u001b[39m\u001b[38;5;124mIdentify the geographic locations where the incidents occurred in the format \u001b[39m\u001b[38;5;124m'\u001b[39m\u001b[38;5;124mspecific location, state, country\u001b[39m\u001b[38;5;124m'\u001b[39m\u001b[38;5;124m. \u001b[39m\n\u001b[0;32m     68\u001b[0m \u001b[38;5;124mEnsure that each line includes the complete location. \u001b[39m\n\u001b[0;32m     69\u001b[0m \u001b[38;5;124mFor example, if the incident occurred in El Fasher, the capital of North Darfur, and the actual incidents took place in Al Salam Neighbourhood, \u001b[39m\n\u001b[0;32m     70\u001b[0m \u001b[38;5;124mthen the output should be in the format: \u001b[39m\u001b[38;5;124m'\u001b[39m\u001b[38;5;124mAl Salam Neighbourhood, El Fasher, North Darfur, Sudan\u001b[39m\u001b[38;5;124m'\u001b[39m\u001b[38;5;124m. \u001b[39m\n\u001b[0;32m     71\u001b[0m \u001b[38;5;124mIf the specifics about the location are missing, omit that part of the format but ensure the general location is included. \u001b[39m\n\u001b[0;32m     72\u001b[0m \u001b[38;5;124mList each location on a separate line if multiple incidents occured. Do not include any explanations or additional information in the output.\u001b[39m\u001b[38;5;124m\"\"\"\u001b[39m\n\u001b[1;32m---> 74\u001b[0m response \u001b[38;5;241m=\u001b[39m \u001b[43mindex\u001b[49m\u001b[38;5;241;43m.\u001b[39;49m\u001b[43mas_query_engine\u001b[49m\u001b[43m(\u001b[49m\u001b[43msimilarity_top_k\u001b[49m\u001b[38;5;241;43m=\u001b[39;49m\u001b[38;5;241;43m1\u001b[39;49m\u001b[43m)\u001b[49m\u001b[38;5;241;43m.\u001b[39;49m\u001b[43mquery\u001b[49m\u001b[43m(\u001b[49m\u001b[43mquery\u001b[49m\u001b[43m)\u001b[49m\n\u001b[0;32m     76\u001b[0m article_metadata_detected_str \u001b[38;5;241m=\u001b[39m response\u001b[38;5;241m.\u001b[39mresponse\u001b[38;5;241m.\u001b[39mstrip()\n\u001b[0;32m     78\u001b[0m \u001b[38;5;66;03m# Split the response by commas\u001b[39;00m\n\u001b[0;32m     79\u001b[0m \u001b[38;5;66;03m#metadata_parts = article_metadata_detected_str.split(',')\u001b[39;00m\n\u001b[0;32m     80\u001b[0m \n\u001b[1;32m   (...)\u001b[0m\n\u001b[0;32m     91\u001b[0m \u001b[38;5;66;03m#else:\u001b[39;00m\n\u001b[0;32m     92\u001b[0m     \u001b[38;5;66;03m# Handle cases where the LLM output might not match the expected format\u001b[39;00m\n",
      "File \u001b[1;32mc:\\Users\\zwang31\\AppData\\Local\\ESRI\\conda\\envs\\arcgispro-py3-clone\\lib\\site-packages\\llama_index\\core\\base_query_engine.py:30\u001b[0m, in \u001b[0;36mBaseQueryEngine.query\u001b[1;34m(self, str_or_query_bundle)\u001b[0m\n\u001b[0;32m     28\u001b[0m \u001b[38;5;28;01mif\u001b[39;00m \u001b[38;5;28misinstance\u001b[39m(str_or_query_bundle, \u001b[38;5;28mstr\u001b[39m):\n\u001b[0;32m     29\u001b[0m     str_or_query_bundle \u001b[38;5;241m=\u001b[39m QueryBundle(str_or_query_bundle)\n\u001b[1;32m---> 30\u001b[0m \u001b[38;5;28;01mreturn\u001b[39;00m \u001b[38;5;28;43mself\u001b[39;49m\u001b[38;5;241;43m.\u001b[39;49m\u001b[43m_query\u001b[49m\u001b[43m(\u001b[49m\u001b[43mstr_or_query_bundle\u001b[49m\u001b[43m)\u001b[49m\n",
      "File \u001b[1;32mc:\\Users\\zwang31\\AppData\\Local\\ESRI\\conda\\envs\\arcgispro-py3-clone\\lib\\site-packages\\llama_index\\query_engine\\retriever_query_engine.py:170\u001b[0m, in \u001b[0;36mRetrieverQueryEngine._query\u001b[1;34m(self, query_bundle)\u001b[0m\n\u001b[0;32m    166\u001b[0m \u001b[38;5;250m\u001b[39m\u001b[38;5;124;03m\"\"\"Answer a query.\"\"\"\u001b[39;00m\n\u001b[0;32m    167\u001b[0m \u001b[38;5;28;01mwith\u001b[39;00m \u001b[38;5;28mself\u001b[39m\u001b[38;5;241m.\u001b[39mcallback_manager\u001b[38;5;241m.\u001b[39mevent(\n\u001b[0;32m    168\u001b[0m     CBEventType\u001b[38;5;241m.\u001b[39mQUERY, payload\u001b[38;5;241m=\u001b[39m{EventPayload\u001b[38;5;241m.\u001b[39mQUERY_STR: query_bundle\u001b[38;5;241m.\u001b[39mquery_str}\n\u001b[0;32m    169\u001b[0m ) \u001b[38;5;28;01mas\u001b[39;00m query_event:\n\u001b[1;32m--> 170\u001b[0m     nodes \u001b[38;5;241m=\u001b[39m \u001b[38;5;28;43mself\u001b[39;49m\u001b[38;5;241;43m.\u001b[39;49m\u001b[43mretrieve\u001b[49m\u001b[43m(\u001b[49m\u001b[43mquery_bundle\u001b[49m\u001b[43m)\u001b[49m\n\u001b[0;32m    171\u001b[0m     response \u001b[38;5;241m=\u001b[39m \u001b[38;5;28mself\u001b[39m\u001b[38;5;241m.\u001b[39m_response_synthesizer\u001b[38;5;241m.\u001b[39msynthesize(\n\u001b[0;32m    172\u001b[0m         query\u001b[38;5;241m=\u001b[39mquery_bundle,\n\u001b[0;32m    173\u001b[0m         nodes\u001b[38;5;241m=\u001b[39mnodes,\n\u001b[0;32m    174\u001b[0m     )\n\u001b[0;32m    176\u001b[0m     query_event\u001b[38;5;241m.\u001b[39mon_end(payload\u001b[38;5;241m=\u001b[39m{EventPayload\u001b[38;5;241m.\u001b[39mRESPONSE: response})\n",
      "File \u001b[1;32mc:\\Users\\zwang31\\AppData\\Local\\ESRI\\conda\\envs\\arcgispro-py3-clone\\lib\\site-packages\\llama_index\\query_engine\\retriever_query_engine.py:126\u001b[0m, in \u001b[0;36mRetrieverQueryEngine.retrieve\u001b[1;34m(self, query_bundle)\u001b[0m\n\u001b[0;32m    125\u001b[0m \u001b[38;5;28;01mdef\u001b[39;00m \u001b[38;5;21mretrieve\u001b[39m(\u001b[38;5;28mself\u001b[39m, query_bundle: QueryBundle) \u001b[38;5;241m-\u001b[39m\u001b[38;5;241m>\u001b[39m List[NodeWithScore]:\n\u001b[1;32m--> 126\u001b[0m     nodes \u001b[38;5;241m=\u001b[39m \u001b[38;5;28;43mself\u001b[39;49m\u001b[38;5;241;43m.\u001b[39;49m\u001b[43m_retriever\u001b[49m\u001b[38;5;241;43m.\u001b[39;49m\u001b[43mretrieve\u001b[49m\u001b[43m(\u001b[49m\u001b[43mquery_bundle\u001b[49m\u001b[43m)\u001b[49m\n\u001b[0;32m    127\u001b[0m     \u001b[38;5;28;01mreturn\u001b[39;00m \u001b[38;5;28mself\u001b[39m\u001b[38;5;241m.\u001b[39m_apply_node_postprocessors(nodes, query_bundle\u001b[38;5;241m=\u001b[39mquery_bundle)\n",
      "File \u001b[1;32mc:\\Users\\zwang31\\AppData\\Local\\ESRI\\conda\\envs\\arcgispro-py3-clone\\lib\\site-packages\\llama_index\\core\\base_retriever.py:54\u001b[0m, in \u001b[0;36mBaseRetriever.retrieve\u001b[1;34m(self, str_or_query_bundle)\u001b[0m\n\u001b[0;32m     49\u001b[0m \u001b[38;5;28;01mwith\u001b[39;00m \u001b[38;5;28mself\u001b[39m\u001b[38;5;241m.\u001b[39mcallback_manager\u001b[38;5;241m.\u001b[39mas_trace(\u001b[38;5;124m\"\u001b[39m\u001b[38;5;124mquery\u001b[39m\u001b[38;5;124m\"\u001b[39m):\n\u001b[0;32m     50\u001b[0m     \u001b[38;5;28;01mwith\u001b[39;00m \u001b[38;5;28mself\u001b[39m\u001b[38;5;241m.\u001b[39mcallback_manager\u001b[38;5;241m.\u001b[39mevent(\n\u001b[0;32m     51\u001b[0m         CBEventType\u001b[38;5;241m.\u001b[39mRETRIEVE,\n\u001b[0;32m     52\u001b[0m         payload\u001b[38;5;241m=\u001b[39m{EventPayload\u001b[38;5;241m.\u001b[39mQUERY_STR: query_bundle\u001b[38;5;241m.\u001b[39mquery_str},\n\u001b[0;32m     53\u001b[0m     ) \u001b[38;5;28;01mas\u001b[39;00m retrieve_event:\n\u001b[1;32m---> 54\u001b[0m         nodes \u001b[38;5;241m=\u001b[39m \u001b[38;5;28;43mself\u001b[39;49m\u001b[38;5;241;43m.\u001b[39;49m\u001b[43m_retrieve\u001b[49m\u001b[43m(\u001b[49m\u001b[43mquery_bundle\u001b[49m\u001b[43m)\u001b[49m\n\u001b[0;32m     55\u001b[0m         retrieve_event\u001b[38;5;241m.\u001b[39mon_end(\n\u001b[0;32m     56\u001b[0m             payload\u001b[38;5;241m=\u001b[39m{EventPayload\u001b[38;5;241m.\u001b[39mNODES: nodes},\n\u001b[0;32m     57\u001b[0m         )\n\u001b[0;32m     58\u001b[0m \u001b[38;5;28;01mreturn\u001b[39;00m nodes\n",
      "File \u001b[1;32mc:\\Users\\zwang31\\AppData\\Local\\ESRI\\conda\\envs\\arcgispro-py3-clone\\lib\\site-packages\\llama_index\\indices\\vector_store\\retrievers\\retriever.py:88\u001b[0m, in \u001b[0;36mVectorIndexRetriever._retrieve\u001b[1;34m(self, query_bundle)\u001b[0m\n\u001b[0;32m     82\u001b[0m     \u001b[38;5;28;01mif\u001b[39;00m query_bundle\u001b[38;5;241m.\u001b[39membedding \u001b[38;5;129;01mis\u001b[39;00m \u001b[38;5;28;01mNone\u001b[39;00m \u001b[38;5;129;01mand\u001b[39;00m \u001b[38;5;28mlen\u001b[39m(query_bundle\u001b[38;5;241m.\u001b[39membedding_strs) \u001b[38;5;241m>\u001b[39m \u001b[38;5;241m0\u001b[39m:\n\u001b[0;32m     83\u001b[0m         query_bundle\u001b[38;5;241m.\u001b[39membedding \u001b[38;5;241m=\u001b[39m (\n\u001b[0;32m     84\u001b[0m             \u001b[38;5;28mself\u001b[39m\u001b[38;5;241m.\u001b[39m_service_context\u001b[38;5;241m.\u001b[39membed_model\u001b[38;5;241m.\u001b[39mget_agg_embedding_from_queries(\n\u001b[0;32m     85\u001b[0m                 query_bundle\u001b[38;5;241m.\u001b[39membedding_strs\n\u001b[0;32m     86\u001b[0m             )\n\u001b[0;32m     87\u001b[0m         )\n\u001b[1;32m---> 88\u001b[0m \u001b[38;5;28;01mreturn\u001b[39;00m \u001b[38;5;28;43mself\u001b[39;49m\u001b[38;5;241;43m.\u001b[39;49m\u001b[43m_get_nodes_with_embeddings\u001b[49m\u001b[43m(\u001b[49m\u001b[43mquery_bundle\u001b[49m\u001b[43m)\u001b[49m\n",
      "File \u001b[1;32mc:\\Users\\zwang31\\AppData\\Local\\ESRI\\conda\\envs\\arcgispro-py3-clone\\lib\\site-packages\\llama_index\\indices\\vector_store\\retrievers\\retriever.py:165\u001b[0m, in \u001b[0;36mVectorIndexRetriever._get_nodes_with_embeddings\u001b[1;34m(self, query_bundle_with_embeddings)\u001b[0m\n\u001b[0;32m    163\u001b[0m query \u001b[38;5;241m=\u001b[39m \u001b[38;5;28mself\u001b[39m\u001b[38;5;241m.\u001b[39m_build_vector_store_query(query_bundle_with_embeddings)\n\u001b[0;32m    164\u001b[0m query_result \u001b[38;5;241m=\u001b[39m \u001b[38;5;28mself\u001b[39m\u001b[38;5;241m.\u001b[39m_vector_store\u001b[38;5;241m.\u001b[39mquery(query, \u001b[38;5;241m*\u001b[39m\u001b[38;5;241m*\u001b[39m\u001b[38;5;28mself\u001b[39m\u001b[38;5;241m.\u001b[39m_kwargs)\n\u001b[1;32m--> 165\u001b[0m \u001b[38;5;28;01mreturn\u001b[39;00m \u001b[38;5;28;43mself\u001b[39;49m\u001b[38;5;241;43m.\u001b[39;49m\u001b[43m_build_node_list_from_query_result\u001b[49m\u001b[43m(\u001b[49m\u001b[43mquery_result\u001b[49m\u001b[43m)\u001b[49m\n",
      "File \u001b[1;32mc:\\Users\\zwang31\\AppData\\Local\\ESRI\\conda\\envs\\arcgispro-py3-clone\\lib\\site-packages\\llama_index\\indices\\vector_store\\retrievers\\retriever.py:128\u001b[0m, in \u001b[0;36mVectorIndexRetriever._build_node_list_from_query_result\u001b[1;34m(self, query_result)\u001b[0m\n\u001b[0;32m    123\u001b[0m     \u001b[38;5;28;01mraise\u001b[39;00m \u001b[38;5;167;01mValueError\u001b[39;00m(\n\u001b[0;32m    124\u001b[0m         \u001b[38;5;124m\"\u001b[39m\u001b[38;5;124mVector store query result should return at \u001b[39m\u001b[38;5;124m\"\u001b[39m\n\u001b[0;32m    125\u001b[0m         \u001b[38;5;124m\"\u001b[39m\u001b[38;5;124mleast one of nodes or ids.\u001b[39m\u001b[38;5;124m\"\u001b[39m\n\u001b[0;32m    126\u001b[0m     )\n\u001b[0;32m    127\u001b[0m \u001b[38;5;28;01massert\u001b[39;00m \u001b[38;5;28misinstance\u001b[39m(\u001b[38;5;28mself\u001b[39m\u001b[38;5;241m.\u001b[39m_index\u001b[38;5;241m.\u001b[39mindex_struct, IndexDict)\n\u001b[1;32m--> 128\u001b[0m node_ids \u001b[38;5;241m=\u001b[39m [\n\u001b[0;32m    129\u001b[0m     \u001b[38;5;28mself\u001b[39m\u001b[38;5;241m.\u001b[39m_index\u001b[38;5;241m.\u001b[39mindex_struct\u001b[38;5;241m.\u001b[39mnodes_dict[idx] \u001b[38;5;28;01mfor\u001b[39;00m idx \u001b[38;5;129;01min\u001b[39;00m query_result\u001b[38;5;241m.\u001b[39mids\n\u001b[0;32m    130\u001b[0m ]\n\u001b[0;32m    131\u001b[0m nodes \u001b[38;5;241m=\u001b[39m \u001b[38;5;28mself\u001b[39m\u001b[38;5;241m.\u001b[39m_docstore\u001b[38;5;241m.\u001b[39mget_nodes(node_ids)\n\u001b[0;32m    132\u001b[0m query_result\u001b[38;5;241m.\u001b[39mnodes \u001b[38;5;241m=\u001b[39m nodes\n",
      "File \u001b[1;32mc:\\Users\\zwang31\\AppData\\Local\\ESRI\\conda\\envs\\arcgispro-py3-clone\\lib\\site-packages\\llama_index\\indices\\vector_store\\retrievers\\retriever.py:129\u001b[0m, in \u001b[0;36m<listcomp>\u001b[1;34m(.0)\u001b[0m\n\u001b[0;32m    123\u001b[0m     \u001b[38;5;28;01mraise\u001b[39;00m \u001b[38;5;167;01mValueError\u001b[39;00m(\n\u001b[0;32m    124\u001b[0m         \u001b[38;5;124m\"\u001b[39m\u001b[38;5;124mVector store query result should return at \u001b[39m\u001b[38;5;124m\"\u001b[39m\n\u001b[0;32m    125\u001b[0m         \u001b[38;5;124m\"\u001b[39m\u001b[38;5;124mleast one of nodes or ids.\u001b[39m\u001b[38;5;124m\"\u001b[39m\n\u001b[0;32m    126\u001b[0m     )\n\u001b[0;32m    127\u001b[0m \u001b[38;5;28;01massert\u001b[39;00m \u001b[38;5;28misinstance\u001b[39m(\u001b[38;5;28mself\u001b[39m\u001b[38;5;241m.\u001b[39m_index\u001b[38;5;241m.\u001b[39mindex_struct, IndexDict)\n\u001b[0;32m    128\u001b[0m node_ids \u001b[38;5;241m=\u001b[39m [\n\u001b[1;32m--> 129\u001b[0m     \u001b[38;5;28;43mself\u001b[39;49m\u001b[38;5;241;43m.\u001b[39;49m\u001b[43m_index\u001b[49m\u001b[38;5;241;43m.\u001b[39;49m\u001b[43mindex_struct\u001b[49m\u001b[38;5;241;43m.\u001b[39;49m\u001b[43mnodes_dict\u001b[49m\u001b[43m[\u001b[49m\u001b[43midx\u001b[49m\u001b[43m]\u001b[49m \u001b[38;5;28;01mfor\u001b[39;00m idx \u001b[38;5;129;01min\u001b[39;00m query_result\u001b[38;5;241m.\u001b[39mids\n\u001b[0;32m    130\u001b[0m ]\n\u001b[0;32m    131\u001b[0m nodes \u001b[38;5;241m=\u001b[39m \u001b[38;5;28mself\u001b[39m\u001b[38;5;241m.\u001b[39m_docstore\u001b[38;5;241m.\u001b[39mget_nodes(node_ids)\n\u001b[0;32m    132\u001b[0m query_result\u001b[38;5;241m.\u001b[39mnodes \u001b[38;5;241m=\u001b[39m nodes\n",
      "\u001b[1;31mKeyError\u001b[0m: '0'"
     ]
    }
   ],
   "source": [
    "import faiss\n",
    "import os\n",
    "import openai\n",
    "\n",
    "d=768\n",
    "faiss_index=faiss.IndexFlatL2(d)\n",
    "\n",
    "os.environ['OPENAI_API_KEY'] = 'lm-studio'\n",
    "os.environ['OPENAI_API_BASE'] = 'http://localhost:1234/v1'\n",
    "\n",
    "openai.api_key = os.getenv('OPENAI_API_KEY')\n",
    "openai.api_base = os.getenv('OPENAI_API_BASE')\n",
    "\n",
    "import re\n",
    "\"\"\"def format_year(date_str):\n",
    "    # Search for patterns that capture full year '2023' or '2024'\n",
    "    match = re.search(r'\\b(2023|2024)\\b', date_str)\n",
    "    if match:\n",
    "        return match.group(0) + ' News. '  # Directly return the matched year\n",
    "\n",
    "    # Search for patterns that capture '23' or '24' not surrounded by other digits\n",
    "    match = re.search(r'(?<!\\d)(23|24)(?!\\d)', date_str)\n",
    "    if match:\n",
    "        return '20' + match.group(0) + ' News. ' # Convert '23' to '2023', '24' to '2024'\n",
    "\n",
    "    return None\"\"\"\n",
    "\n",
    "from llama_index import Document\n",
    "import pandas as pd\n",
    "from llama_index import VectorStoreIndex, StorageContext\n",
    "from llama_index.vector_stores.faiss import FaissVectorStore\n",
    "\n",
    "# Load CSV data\n",
    "df = pd.read_csv(r'Sudan_Incident_Log_May.csv', encoding='utf-8')\n",
    "\n",
    "#df['formatted_year'] = df['Date'].apply(format_year)\n",
    "\n",
    "# Initialize columns for the geographic metadata\n",
    "#df['Country'] = None\n",
    "#df['State'] = None\n",
    "df['Location'] = None\n",
    "#df['Specifics'] = None\n",
    "#df['Date'] = None\n",
    "\n",
    "# Process each row\n",
    "for i, row in df.iterrows(): \n",
    "    # Combine the year and narrative into a single text\n",
    "    #text = str(row['formatted_year']) + str(row['Incident Narrative'])\n",
    "    text = str((row['Incident Narrative']))\n",
    "    text_list=[text]\n",
    "    print(text_list)\n",
    "    documents = [Document(text=t) for t in text_list]\n",
    "\n",
    "    vector_store = FaissVectorStore(faiss_index=faiss_index)\n",
    "    storage_context = StorageContext.from_defaults(vector_store=vector_store)\n",
    "    index = VectorStoreIndex.from_documents(documents, storage_context=storage_context, show_progress=True)\n",
    "\n",
    "    #query = \"\"\"Identify the geographic locations and dates where the incidents occurred in the format 'country, state, location, specifics about the location, mm/dd/yyyy'. \n",
    "    #Ensure that each line includes the complete location and its corresponding date, separated by a comma. \n",
    "    #For example, if the incident occurred in El Fasher, the capital of North Darfur, and the actual incidents took place in Al Salam Neighbourhood, \n",
    "    #then the output should be in the format: 'Sudan, North Darfur, El Fasher, Al Salam Neighbourhood, mm/dd/yyyy'. \n",
    "    #If the specifics about the location are missing, omit that part of the format but ensure the rest is preserved.\n",
    "    #Make sure to include only the real date associated with the incident. If there is no date available, do not insert a placeholder date. \n",
    "    #List each location and its corresponding date on a separate line. Do not include any explanations or additional information in the output.\"\"\"\n",
    "\n",
    "    \n",
    "    query = \"\"\"Identify the geographic locations where the incidents occurred in the format 'specific location, state, country'. \n",
    "    Ensure that each line includes the complete location. \n",
    "    For example, if the incident occurred in El Fasher, the capital of North Darfur, and the actual incidents took place in Al Salam Neighbourhood, \n",
    "    then the output should be in the format: 'Al Salam Neighbourhood, El Fasher, North Darfur, Sudan'. \n",
    "    If the specifics about the location are missing, omit that part of the format but ensure the general location is included. \n",
    "    List each location on a separate line if multiple incidents occured. Do not include any explanations or additional information in the output.\"\"\"\n",
    "\n",
    "    response = index.as_query_engine(similarity_top_k=1).query(query)\n",
    "    \n",
    "    article_metadata_detected_str = response.response.strip()\n",
    "    \n",
    "    # Split the response by commas\n",
    "    #metadata_parts = article_metadata_detected_str.split(',')\n",
    "    \n",
    "    # Ensure there are enough parts in the response\n",
    "    #if len(metadata_parts) >= 5:\n",
    "    #    country, state, location, specifics, date = metadata_parts[0], metadata_parts[1], metadata_parts[2], metadata_parts[3], metadata_parts[4]\n",
    "        \n",
    "        # Assign values to respective columns\n",
    "        #df.at[i, 'Country'] = country.strip()\n",
    "        #df.at[i, 'State'] = state.strip()\n",
    "    #    df.at[i, 'Location'] = location.strip()\n",
    "        #df.at[i, 'Specifics'] = specifics.strip()\n",
    "        #df.at[i, 'Date'] = date.strip()\n",
    "    #else:\n",
    "        # Handle cases where the LLM output might not match the expected format\n",
    "    df.at[i, 'Location'] = article_metadata_detected_str  # Save the entire string in case of mismatches for review\n",
    "    \n",
    "    \n",
    "\n",
    "# Final save after processing all rows\n",
    "df.to_csv('Sudan_Incident_Log_May_coordinates.csv', index=False, encoding='utf-8-sig')"
   ]
  },
  {
   "cell_type": "code",
   "execution_count": null,
   "metadata": {},
   "outputs": [
    {
     "data": {
      "application/vnd.jupyter.widget-view+json": {
       "model_id": "95e42d7bbb5c4e85ae44d253e3053077",
       "version_major": 2,
       "version_minor": 0
      },
      "text/plain": [
       "Parsing nodes:   0%|          | 0/1 [00:00<?, ?it/s]"
      ]
     },
     "metadata": {},
     "output_type": "display_data"
    },
    {
     "data": {
      "application/vnd.jupyter.widget-view+json": {
       "model_id": "3eee371e52c74b0990cc6661bb0cc3b0",
       "version_major": 2,
       "version_minor": 0
      },
      "text/plain": [
       "Generating embeddings:   0%|          | 0/1 [00:00<?, ?it/s]"
      ]
     },
     "metadata": {},
     "output_type": "display_data"
    },
    {
     "name": "stdout",
     "output_type": "stream",
     "text": [
      "0 Al-Salam South, West Kordofan, Sudan\n",
      "Al-Tarbiyah, West Kordofan, Sudan\n",
      "Abu Ismail South, West Kordofan, Sudan\n",
      "Al-Sahafa East, West Kordofan, Sudan\n",
      "Al-Sahafa West, West Kordofan, Sudan\n",
      "Babanusa Dairy Factory neighborhood, West Kordofan, Sudan \n",
      "\n",
      "\n",
      "\n"
     ]
    },
    {
     "data": {
      "application/vnd.jupyter.widget-view+json": {
       "model_id": "47c0cd97fd2948088df9818432c81b2a",
       "version_major": 2,
       "version_minor": 0
      },
      "text/plain": [
       "Parsing nodes:   0%|          | 0/1 [00:00<?, ?it/s]"
      ]
     },
     "metadata": {},
     "output_type": "display_data"
    },
    {
     "data": {
      "application/vnd.jupyter.widget-view+json": {
       "model_id": "b6af6b06da5b4fe486f6051ce8164993",
       "version_major": 2,
       "version_minor": 0
      },
      "text/plain": [
       "Generating embeddings:   0%|          | 0/1 [00:00<?, ?it/s]"
      ]
     },
     "metadata": {},
     "output_type": "display_data"
    },
    {
     "ename": "KeyError",
     "evalue": "'0'",
     "output_type": "error",
     "traceback": [
      "\u001b[1;31m---------------------------------------------------------------------------\u001b[0m",
      "\u001b[1;31mKeyError\u001b[0m                                  Traceback (most recent call last)",
      "Cell \u001b[1;32mIn[15], line 39\u001b[0m\n\u001b[0;32m     31\u001b[0m \u001b[38;5;66;03m#query = \"\"\"Identify the geographic locations where the incidents occurred in the format 'specific location, state, country'. \u001b[39;00m\n\u001b[0;32m     32\u001b[0m \u001b[38;5;66;03m#Ensure that each line includes the complete location. \u001b[39;00m\n\u001b[0;32m     33\u001b[0m \u001b[38;5;66;03m#For example, if the incident occurred in El Fasher, the capital of North Darfur, and the actual incidents took place in Al Salam Neighbourhood, \u001b[39;00m\n\u001b[0;32m     34\u001b[0m \u001b[38;5;66;03m#then the output should be in the format: 'Al Salam Neighbourhood, El Fasher, North Darfur, Sudan'. \u001b[39;00m\n\u001b[0;32m     35\u001b[0m \u001b[38;5;66;03m#If the specifics about the location are missing, omit that part of the format but ensure the general location is included. \u001b[39;00m\n\u001b[0;32m     36\u001b[0m \u001b[38;5;66;03m#List each location on a separate line if multiple incidents occurred. Do not include any explanations or additional information in the output.\"\"\"\u001b[39;00m\n\u001b[0;32m     37\u001b[0m query \u001b[38;5;241m=\u001b[39m \u001b[38;5;124m\"\"\"\u001b[39m\u001b[38;5;124mIdentify the geographic locations and times where healthcare infrastructure destruction occurred in the format \u001b[39m\u001b[38;5;124m'\u001b[39m\u001b[38;5;124mneighborhood, state, country\u001b[39m\u001b[38;5;124m'\u001b[39m\u001b[38;5;124m and \u001b[39m\u001b[38;5;124m'\u001b[39m\u001b[38;5;124mmm/dd/yyyy\u001b[39m\u001b[38;5;124m'\u001b[39m\u001b[38;5;124m. If there are multiple locations, list each location and time on a separate line without any explanation. \u001b[39m\u001b[38;5;124m\"\"\"\u001b[39m\n\u001b[1;32m---> 39\u001b[0m response \u001b[38;5;241m=\u001b[39m \u001b[43mindex\u001b[49m\u001b[38;5;241;43m.\u001b[39;49m\u001b[43mas_query_engine\u001b[49m\u001b[43m(\u001b[49m\u001b[43msimilarity_top_k\u001b[49m\u001b[38;5;241;43m=\u001b[39;49m\u001b[38;5;241;43m1\u001b[39;49m\u001b[43m)\u001b[49m\u001b[38;5;241;43m.\u001b[39;49m\u001b[43mquery\u001b[49m\u001b[43m(\u001b[49m\u001b[43mquery\u001b[49m\u001b[43m)\u001b[49m\n\u001b[0;32m     40\u001b[0m article_metadata_detected_str \u001b[38;5;241m=\u001b[39m response\u001b[38;5;241m.\u001b[39mresponse\n\u001b[0;32m     41\u001b[0m \u001b[38;5;28mprint\u001b[39m(\u001b[38;5;28mstr\u001b[39m(i) \u001b[38;5;241m+\u001b[39m \u001b[38;5;124m\"\u001b[39m\u001b[38;5;124m \u001b[39m\u001b[38;5;124m\"\u001b[39m\u001b[38;5;241m+\u001b[39m article_metadata_detected_str)\n",
      "File \u001b[1;32mc:\\Users\\zwang31\\AppData\\Local\\ESRI\\conda\\envs\\arcgispro-py3-clone\\lib\\site-packages\\llama_index\\core\\base_query_engine.py:30\u001b[0m, in \u001b[0;36mBaseQueryEngine.query\u001b[1;34m(self, str_or_query_bundle)\u001b[0m\n\u001b[0;32m     28\u001b[0m \u001b[38;5;28;01mif\u001b[39;00m \u001b[38;5;28misinstance\u001b[39m(str_or_query_bundle, \u001b[38;5;28mstr\u001b[39m):\n\u001b[0;32m     29\u001b[0m     str_or_query_bundle \u001b[38;5;241m=\u001b[39m QueryBundle(str_or_query_bundle)\n\u001b[1;32m---> 30\u001b[0m \u001b[38;5;28;01mreturn\u001b[39;00m \u001b[38;5;28;43mself\u001b[39;49m\u001b[38;5;241;43m.\u001b[39;49m\u001b[43m_query\u001b[49m\u001b[43m(\u001b[49m\u001b[43mstr_or_query_bundle\u001b[49m\u001b[43m)\u001b[49m\n",
      "File \u001b[1;32mc:\\Users\\zwang31\\AppData\\Local\\ESRI\\conda\\envs\\arcgispro-py3-clone\\lib\\site-packages\\llama_index\\query_engine\\retriever_query_engine.py:170\u001b[0m, in \u001b[0;36mRetrieverQueryEngine._query\u001b[1;34m(self, query_bundle)\u001b[0m\n\u001b[0;32m    166\u001b[0m \u001b[38;5;250m\u001b[39m\u001b[38;5;124;03m\"\"\"Answer a query.\"\"\"\u001b[39;00m\n\u001b[0;32m    167\u001b[0m \u001b[38;5;28;01mwith\u001b[39;00m \u001b[38;5;28mself\u001b[39m\u001b[38;5;241m.\u001b[39mcallback_manager\u001b[38;5;241m.\u001b[39mevent(\n\u001b[0;32m    168\u001b[0m     CBEventType\u001b[38;5;241m.\u001b[39mQUERY, payload\u001b[38;5;241m=\u001b[39m{EventPayload\u001b[38;5;241m.\u001b[39mQUERY_STR: query_bundle\u001b[38;5;241m.\u001b[39mquery_str}\n\u001b[0;32m    169\u001b[0m ) \u001b[38;5;28;01mas\u001b[39;00m query_event:\n\u001b[1;32m--> 170\u001b[0m     nodes \u001b[38;5;241m=\u001b[39m \u001b[38;5;28;43mself\u001b[39;49m\u001b[38;5;241;43m.\u001b[39;49m\u001b[43mretrieve\u001b[49m\u001b[43m(\u001b[49m\u001b[43mquery_bundle\u001b[49m\u001b[43m)\u001b[49m\n\u001b[0;32m    171\u001b[0m     response \u001b[38;5;241m=\u001b[39m \u001b[38;5;28mself\u001b[39m\u001b[38;5;241m.\u001b[39m_response_synthesizer\u001b[38;5;241m.\u001b[39msynthesize(\n\u001b[0;32m    172\u001b[0m         query\u001b[38;5;241m=\u001b[39mquery_bundle,\n\u001b[0;32m    173\u001b[0m         nodes\u001b[38;5;241m=\u001b[39mnodes,\n\u001b[0;32m    174\u001b[0m     )\n\u001b[0;32m    176\u001b[0m     query_event\u001b[38;5;241m.\u001b[39mon_end(payload\u001b[38;5;241m=\u001b[39m{EventPayload\u001b[38;5;241m.\u001b[39mRESPONSE: response})\n",
      "File \u001b[1;32mc:\\Users\\zwang31\\AppData\\Local\\ESRI\\conda\\envs\\arcgispro-py3-clone\\lib\\site-packages\\llama_index\\query_engine\\retriever_query_engine.py:126\u001b[0m, in \u001b[0;36mRetrieverQueryEngine.retrieve\u001b[1;34m(self, query_bundle)\u001b[0m\n\u001b[0;32m    125\u001b[0m \u001b[38;5;28;01mdef\u001b[39;00m \u001b[38;5;21mretrieve\u001b[39m(\u001b[38;5;28mself\u001b[39m, query_bundle: QueryBundle) \u001b[38;5;241m-\u001b[39m\u001b[38;5;241m>\u001b[39m List[NodeWithScore]:\n\u001b[1;32m--> 126\u001b[0m     nodes \u001b[38;5;241m=\u001b[39m \u001b[38;5;28;43mself\u001b[39;49m\u001b[38;5;241;43m.\u001b[39;49m\u001b[43m_retriever\u001b[49m\u001b[38;5;241;43m.\u001b[39;49m\u001b[43mretrieve\u001b[49m\u001b[43m(\u001b[49m\u001b[43mquery_bundle\u001b[49m\u001b[43m)\u001b[49m\n\u001b[0;32m    127\u001b[0m     \u001b[38;5;28;01mreturn\u001b[39;00m \u001b[38;5;28mself\u001b[39m\u001b[38;5;241m.\u001b[39m_apply_node_postprocessors(nodes, query_bundle\u001b[38;5;241m=\u001b[39mquery_bundle)\n",
      "File \u001b[1;32mc:\\Users\\zwang31\\AppData\\Local\\ESRI\\conda\\envs\\arcgispro-py3-clone\\lib\\site-packages\\llama_index\\core\\base_retriever.py:54\u001b[0m, in \u001b[0;36mBaseRetriever.retrieve\u001b[1;34m(self, str_or_query_bundle)\u001b[0m\n\u001b[0;32m     49\u001b[0m \u001b[38;5;28;01mwith\u001b[39;00m \u001b[38;5;28mself\u001b[39m\u001b[38;5;241m.\u001b[39mcallback_manager\u001b[38;5;241m.\u001b[39mas_trace(\u001b[38;5;124m\"\u001b[39m\u001b[38;5;124mquery\u001b[39m\u001b[38;5;124m\"\u001b[39m):\n\u001b[0;32m     50\u001b[0m     \u001b[38;5;28;01mwith\u001b[39;00m \u001b[38;5;28mself\u001b[39m\u001b[38;5;241m.\u001b[39mcallback_manager\u001b[38;5;241m.\u001b[39mevent(\n\u001b[0;32m     51\u001b[0m         CBEventType\u001b[38;5;241m.\u001b[39mRETRIEVE,\n\u001b[0;32m     52\u001b[0m         payload\u001b[38;5;241m=\u001b[39m{EventPayload\u001b[38;5;241m.\u001b[39mQUERY_STR: query_bundle\u001b[38;5;241m.\u001b[39mquery_str},\n\u001b[0;32m     53\u001b[0m     ) \u001b[38;5;28;01mas\u001b[39;00m retrieve_event:\n\u001b[1;32m---> 54\u001b[0m         nodes \u001b[38;5;241m=\u001b[39m \u001b[38;5;28;43mself\u001b[39;49m\u001b[38;5;241;43m.\u001b[39;49m\u001b[43m_retrieve\u001b[49m\u001b[43m(\u001b[49m\u001b[43mquery_bundle\u001b[49m\u001b[43m)\u001b[49m\n\u001b[0;32m     55\u001b[0m         retrieve_event\u001b[38;5;241m.\u001b[39mon_end(\n\u001b[0;32m     56\u001b[0m             payload\u001b[38;5;241m=\u001b[39m{EventPayload\u001b[38;5;241m.\u001b[39mNODES: nodes},\n\u001b[0;32m     57\u001b[0m         )\n\u001b[0;32m     58\u001b[0m \u001b[38;5;28;01mreturn\u001b[39;00m nodes\n",
      "File \u001b[1;32mc:\\Users\\zwang31\\AppData\\Local\\ESRI\\conda\\envs\\arcgispro-py3-clone\\lib\\site-packages\\llama_index\\indices\\vector_store\\retrievers\\retriever.py:88\u001b[0m, in \u001b[0;36mVectorIndexRetriever._retrieve\u001b[1;34m(self, query_bundle)\u001b[0m\n\u001b[0;32m     82\u001b[0m     \u001b[38;5;28;01mif\u001b[39;00m query_bundle\u001b[38;5;241m.\u001b[39membedding \u001b[38;5;129;01mis\u001b[39;00m \u001b[38;5;28;01mNone\u001b[39;00m \u001b[38;5;129;01mand\u001b[39;00m \u001b[38;5;28mlen\u001b[39m(query_bundle\u001b[38;5;241m.\u001b[39membedding_strs) \u001b[38;5;241m>\u001b[39m \u001b[38;5;241m0\u001b[39m:\n\u001b[0;32m     83\u001b[0m         query_bundle\u001b[38;5;241m.\u001b[39membedding \u001b[38;5;241m=\u001b[39m (\n\u001b[0;32m     84\u001b[0m             \u001b[38;5;28mself\u001b[39m\u001b[38;5;241m.\u001b[39m_service_context\u001b[38;5;241m.\u001b[39membed_model\u001b[38;5;241m.\u001b[39mget_agg_embedding_from_queries(\n\u001b[0;32m     85\u001b[0m                 query_bundle\u001b[38;5;241m.\u001b[39membedding_strs\n\u001b[0;32m     86\u001b[0m             )\n\u001b[0;32m     87\u001b[0m         )\n\u001b[1;32m---> 88\u001b[0m \u001b[38;5;28;01mreturn\u001b[39;00m \u001b[38;5;28;43mself\u001b[39;49m\u001b[38;5;241;43m.\u001b[39;49m\u001b[43m_get_nodes_with_embeddings\u001b[49m\u001b[43m(\u001b[49m\u001b[43mquery_bundle\u001b[49m\u001b[43m)\u001b[49m\n",
      "File \u001b[1;32mc:\\Users\\zwang31\\AppData\\Local\\ESRI\\conda\\envs\\arcgispro-py3-clone\\lib\\site-packages\\llama_index\\indices\\vector_store\\retrievers\\retriever.py:165\u001b[0m, in \u001b[0;36mVectorIndexRetriever._get_nodes_with_embeddings\u001b[1;34m(self, query_bundle_with_embeddings)\u001b[0m\n\u001b[0;32m    163\u001b[0m query \u001b[38;5;241m=\u001b[39m \u001b[38;5;28mself\u001b[39m\u001b[38;5;241m.\u001b[39m_build_vector_store_query(query_bundle_with_embeddings)\n\u001b[0;32m    164\u001b[0m query_result \u001b[38;5;241m=\u001b[39m \u001b[38;5;28mself\u001b[39m\u001b[38;5;241m.\u001b[39m_vector_store\u001b[38;5;241m.\u001b[39mquery(query, \u001b[38;5;241m*\u001b[39m\u001b[38;5;241m*\u001b[39m\u001b[38;5;28mself\u001b[39m\u001b[38;5;241m.\u001b[39m_kwargs)\n\u001b[1;32m--> 165\u001b[0m \u001b[38;5;28;01mreturn\u001b[39;00m \u001b[38;5;28;43mself\u001b[39;49m\u001b[38;5;241;43m.\u001b[39;49m\u001b[43m_build_node_list_from_query_result\u001b[49m\u001b[43m(\u001b[49m\u001b[43mquery_result\u001b[49m\u001b[43m)\u001b[49m\n",
      "File \u001b[1;32mc:\\Users\\zwang31\\AppData\\Local\\ESRI\\conda\\envs\\arcgispro-py3-clone\\lib\\site-packages\\llama_index\\indices\\vector_store\\retrievers\\retriever.py:128\u001b[0m, in \u001b[0;36mVectorIndexRetriever._build_node_list_from_query_result\u001b[1;34m(self, query_result)\u001b[0m\n\u001b[0;32m    123\u001b[0m     \u001b[38;5;28;01mraise\u001b[39;00m \u001b[38;5;167;01mValueError\u001b[39;00m(\n\u001b[0;32m    124\u001b[0m         \u001b[38;5;124m\"\u001b[39m\u001b[38;5;124mVector store query result should return at \u001b[39m\u001b[38;5;124m\"\u001b[39m\n\u001b[0;32m    125\u001b[0m         \u001b[38;5;124m\"\u001b[39m\u001b[38;5;124mleast one of nodes or ids.\u001b[39m\u001b[38;5;124m\"\u001b[39m\n\u001b[0;32m    126\u001b[0m     )\n\u001b[0;32m    127\u001b[0m \u001b[38;5;28;01massert\u001b[39;00m \u001b[38;5;28misinstance\u001b[39m(\u001b[38;5;28mself\u001b[39m\u001b[38;5;241m.\u001b[39m_index\u001b[38;5;241m.\u001b[39mindex_struct, IndexDict)\n\u001b[1;32m--> 128\u001b[0m node_ids \u001b[38;5;241m=\u001b[39m [\n\u001b[0;32m    129\u001b[0m     \u001b[38;5;28mself\u001b[39m\u001b[38;5;241m.\u001b[39m_index\u001b[38;5;241m.\u001b[39mindex_struct\u001b[38;5;241m.\u001b[39mnodes_dict[idx] \u001b[38;5;28;01mfor\u001b[39;00m idx \u001b[38;5;129;01min\u001b[39;00m query_result\u001b[38;5;241m.\u001b[39mids\n\u001b[0;32m    130\u001b[0m ]\n\u001b[0;32m    131\u001b[0m nodes \u001b[38;5;241m=\u001b[39m \u001b[38;5;28mself\u001b[39m\u001b[38;5;241m.\u001b[39m_docstore\u001b[38;5;241m.\u001b[39mget_nodes(node_ids)\n\u001b[0;32m    132\u001b[0m query_result\u001b[38;5;241m.\u001b[39mnodes \u001b[38;5;241m=\u001b[39m nodes\n",
      "File \u001b[1;32mc:\\Users\\zwang31\\AppData\\Local\\ESRI\\conda\\envs\\arcgispro-py3-clone\\lib\\site-packages\\llama_index\\indices\\vector_store\\retrievers\\retriever.py:129\u001b[0m, in \u001b[0;36m<listcomp>\u001b[1;34m(.0)\u001b[0m\n\u001b[0;32m    123\u001b[0m     \u001b[38;5;28;01mraise\u001b[39;00m \u001b[38;5;167;01mValueError\u001b[39;00m(\n\u001b[0;32m    124\u001b[0m         \u001b[38;5;124m\"\u001b[39m\u001b[38;5;124mVector store query result should return at \u001b[39m\u001b[38;5;124m\"\u001b[39m\n\u001b[0;32m    125\u001b[0m         \u001b[38;5;124m\"\u001b[39m\u001b[38;5;124mleast one of nodes or ids.\u001b[39m\u001b[38;5;124m\"\u001b[39m\n\u001b[0;32m    126\u001b[0m     )\n\u001b[0;32m    127\u001b[0m \u001b[38;5;28;01massert\u001b[39;00m \u001b[38;5;28misinstance\u001b[39m(\u001b[38;5;28mself\u001b[39m\u001b[38;5;241m.\u001b[39m_index\u001b[38;5;241m.\u001b[39mindex_struct, IndexDict)\n\u001b[0;32m    128\u001b[0m node_ids \u001b[38;5;241m=\u001b[39m [\n\u001b[1;32m--> 129\u001b[0m     \u001b[38;5;28;43mself\u001b[39;49m\u001b[38;5;241;43m.\u001b[39;49m\u001b[43m_index\u001b[49m\u001b[38;5;241;43m.\u001b[39;49m\u001b[43mindex_struct\u001b[49m\u001b[38;5;241;43m.\u001b[39;49m\u001b[43mnodes_dict\u001b[49m\u001b[43m[\u001b[49m\u001b[43midx\u001b[49m\u001b[43m]\u001b[49m \u001b[38;5;28;01mfor\u001b[39;00m idx \u001b[38;5;129;01min\u001b[39;00m query_result\u001b[38;5;241m.\u001b[39mids\n\u001b[0;32m    130\u001b[0m ]\n\u001b[0;32m    131\u001b[0m nodes \u001b[38;5;241m=\u001b[39m \u001b[38;5;28mself\u001b[39m\u001b[38;5;241m.\u001b[39m_docstore\u001b[38;5;241m.\u001b[39mget_nodes(node_ids)\n\u001b[0;32m    132\u001b[0m query_result\u001b[38;5;241m.\u001b[39mnodes \u001b[38;5;241m=\u001b[39m nodes\n",
      "\u001b[1;31mKeyError\u001b[0m: '0'"
     ]
    }
   ],
   "source": [
    "import faiss\n",
    "import os\n",
    "import openai\n",
    "from llama_index import Document\n",
    "import pandas as pd\n",
    "from llama_index import VectorStoreIndex, StorageContext\n",
    "from llama_index.vector_stores.faiss import FaissVectorStore\n",
    "\n",
    "d = 768\n",
    "faiss_index = faiss.IndexFlatL2(d)\n",
    "\n",
    "os.environ['OPENAI_API_KEY'] = 'lm-studio'\n",
    "os.environ['OPENAI_API_BASE'] = 'http://localhost:1234/v1'\n",
    "\n",
    "openai.api_key = os.getenv('OPENAI_API_KEY')\n",
    "openai.api_base = os.getenv('OPENAI_API_BASE')\n",
    "\n",
    "df = pd.read_csv(r'C:\\Users\\zwang31\\Documents\\llm\\yahya_work\\csvs_for_experiment\\geocoding_test_clean.csv', encoding='utf-8')\n",
    "#df.reset_index(drop=True)\n",
    "df['Location'] = None\n",
    "\n",
    "for i, row in df.iterrows(): \n",
    "    text = str(row['Incident Narrative'])\n",
    "    text_list = [text]\n",
    "    documents = [Document(text=t) for t in text_list]\n",
    "\n",
    "    vector_store = FaissVectorStore(faiss_index=faiss_index)\n",
    "    storage_context = StorageContext.from_defaults(vector_store=vector_store)\n",
    "    index = VectorStoreIndex.from_documents(documents, storage_context=storage_context, show_progress=True)\n",
    "\n",
    "    query = \"\"\"Identify the geographic locations where the incidents occurred in the format 'specific location, state, country'. \n",
    "    Ensure that each line includes the complete location. \n",
    "    For example, if the incident occurred in El Fasher, the capital of North Darfur, and the actual incidents took place in Al Salam Neighbourhood, \n",
    "    then the output should be in the format: 'Al Salam Neighbourhood, El Fasher, North Darfur, Sudan'. \n",
    "    If the specifics about the location are missing, omit that part of the format but ensure the general location is included. \n",
    "    List each location on a separate line if multiple incidents occurred. Do not include any explanations or additional information in the output.\"\"\"\n",
    "\n",
    "    response = index.as_query_engine(similarity_top_k=1).query(query)\n",
    "    article_metadata_detected_str = response.response\n",
    "    print(str(i) + \" \"+ article_metadata_detected_str)\n",
    "    df.at[i,'Location'] = article_metadata_detected_str\n",
    "df.to_csv('Sudan_Incident_Log_May_coordinates.csv', index=False, encoding='utf-8-sig')\n"
   ]
  },
  {
   "cell_type": "code",
   "execution_count": null,
   "metadata": {},
   "outputs": [
    {
     "name": "stdout",
     "output_type": "stream",
     "text": [
      "['2024 News. For nine consecutive days, that is from around April 27 to May 6, the Sudan Armed Forces (SAF)  and the RSF have exchanged artillery shelling,  using Katyusha rockets and various shells, in Babanusa, West Kordofan. The fighting further destroyed the city that many residents had already left.\\nAccording to sources consulted by Sudan War Monitor, the SAF were inside the 22nd Infantry Division base, the last military installation of the Sudan Army’s control in West Kordofan, while the RSF troops fought from the outskirts of the city, sheltering  in residents’ homes and under trees to avoid aircraft bombardment. According to the Sudan War Monitor’s sources, the bombing damaged many civilians’ homes in which RSF fighters were sheltering. The neighborhoods of Al-Salam South, Al-Tarbiyah, Abu Ismail South, Al-Sahafa East, Al-Sahafa West, and the Babanusa Dairy Factory neighborhood were those where homes were most completely and partially damaged. In addition, government institutions and facilities, such as the buildings of the Sudan Railway Authority (Western Region Headquarters), some schools, and water sources were also damaged.\\nAccording to the same sources the shelling also, injured or killed a large number of livestock as well as fighters on both the RSF and SAF sides. At least, three RSF fighters and two Army soldiers of the Artillery Corps were killed. So, in total, besides the destruction of homes, there were at least  5 combattants and 4 civilians killed.']\n"
     ]
    },
    {
     "data": {
      "application/vnd.jupyter.widget-view+json": {
       "model_id": "55531870aecb4759a0fade6a0124017e",
       "version_major": 2,
       "version_minor": 0
      },
      "text/plain": [
       "Parsing nodes:   0%|          | 0/1 [00:00<?, ?it/s]"
      ]
     },
     "metadata": {},
     "output_type": "display_data"
    },
    {
     "data": {
      "application/vnd.jupyter.widget-view+json": {
       "model_id": "a86096097e14415baf2ef7f707672abb",
       "version_major": 2,
       "version_minor": 0
      },
      "text/plain": [
       "Generating embeddings:   0%|          | 0/1 [00:00<?, ?it/s]"
      ]
     },
     "metadata": {},
     "output_type": "display_data"
    },
    {
     "name": "stdout",
     "output_type": "stream",
     "text": [
      "0 Sudan, West Kordofan, Babanusa,  04/27/2024\n",
      "Sudan, West Kordofan, Babanusa,  05/06/2024 \n",
      "\n",
      "\n",
      "\n",
      "['2024 News. On May 2, the International Committee of the Red Cross (ICRC) reported  that two of its drivers were killed by gunmen  in South Darfur, Sudan. Three other ICRC staff were injured. The incident occurred when the team was on its way back from Layba to assess the humanitarian situation of communities affected by armed violence in the region. ']\n"
     ]
    },
    {
     "data": {
      "application/vnd.jupyter.widget-view+json": {
       "model_id": "5d85365d0e97424c95ed2ed98e7a1317",
       "version_major": 2,
       "version_minor": 0
      },
      "text/plain": [
       "Parsing nodes:   0%|          | 0/1 [00:00<?, ?it/s]"
      ]
     },
     "metadata": {},
     "output_type": "display_data"
    },
    {
     "data": {
      "application/vnd.jupyter.widget-view+json": {
       "model_id": "08122eac46ae44d9ba3e2fcf3e6023a8",
       "version_major": 2,
       "version_minor": 0
      },
      "text/plain": [
       "Generating embeddings:   0%|          | 0/1 [00:00<?, ?it/s]"
      ]
     },
     "metadata": {},
     "output_type": "display_data"
    },
    {
     "name": "stdout",
     "output_type": "stream",
     "text": [
      "1 Sudan, South Darfur, ,  05/02/2024 \n",
      "\n",
      "['2024 News. For nine consecutive days, that is from around April 27 to May 6, the Sudan Armed Forces (SAF)  and the RSF have exchanged artillery shelling,  using Katyusha rockets and various shells, in Babanusa, West Kordofan. The fighting further destroyed the city that many residents had already left.\\nAccording to sources consulted by Sudan War Monitor, the SAF were inside the 22nd Infantry Division base, the last military installation of the Sudan Army’s control in West Kordofan, while the RSF troops fought from the outskirts of the city, sheltering  in residents’ homes and under trees to avoid aircraft bombardment. According to the Sudan War Monitor’s sources, the bombing damaged many civilians’ homes in which RSF fighters were sheltering. The neighborhoods of Al-Salam South, Al-Tarbiyah, Abu Ismail South, Al-Sahafa East, Al-Sahafa West, and the Babanusa Dairy Factory neighborhood were those where homes were most completely and partially damaged. In addition, government institutions and facilities, such as the buildings of the Sudan Railway Authority (Western Region Headquarters), some schools, and water sources were also damaged.\\nOn May 3rd, according to information received from the Babanusa Emergency Room, four members of the same family were killed as a result of the  violent artillery shelling carried out by the RSF on the Sudan Armed Forces who control the 22nd Infantry Division Headquarters. The family had sought refuge in the 22nd Infantry Division. As a reminder, Babanusa has been the theater of several violent clashes between the RSF and the Sudanese Army since 2023.According to the same sources the shelling also, injured or killed a large number of livestock as well as fighters on both the RSF and SAF sides. At least, three RSF fighters and two Army soldiers of the Artillery Corps were killed. So, in total, besides the destruction of homes, there were at least  5 combattants and 4 civilians killed.']\n"
     ]
    },
    {
     "data": {
      "application/vnd.jupyter.widget-view+json": {
       "model_id": "68c555fd175942139e9642ac4fd2b550",
       "version_major": 2,
       "version_minor": 0
      },
      "text/plain": [
       "Parsing nodes:   0%|          | 0/1 [00:00<?, ?it/s]"
      ]
     },
     "metadata": {},
     "output_type": "display_data"
    },
    {
     "data": {
      "application/vnd.jupyter.widget-view+json": {
       "model_id": "88e023dd7342491193543b0ce4f82a3a",
       "version_major": 2,
       "version_minor": 0
      },
      "text/plain": [
       "Generating embeddings:   0%|          | 0/1 [00:00<?, ?it/s]"
      ]
     },
     "metadata": {},
     "output_type": "display_data"
    },
    {
     "name": "stdout",
     "output_type": "stream",
     "text": [
      "2 Sudan, West Kordofan, Babanusa, , 04/27/2024\n",
      "Sudan, West Kordofan, Babanusa, , 05/06/2024\n",
      "Sudan, West Kordofan, Babanusa,  , 05/03/2024 \n",
      "\n",
      "\n",
      "\n",
      "['2024 News. On May 3rd, World Press Freedom Day, the Sudan Media Forum reported the following: «\\xa0The press has become a target. Journalists, both men and women, face systematic violence – killings, destruction of media houses, censorship, and illegal occupations. This ‘media blackout’ prevents them from reporting, informing the public, and upholding press freedom. (…) Both sides wage a “war on media,” spreading propaganda and misinformation to manipulate public opinion. Communication networks are disrupted, further isolating citizens, and hindering their ability to access information and aid.\" Their assessment was corrobated by an Assessment of Reporters Without Borders, a Paris-based press freedom advocacy organization. According to the 2024 World Press Freedom Index, published on May 3rd by  Reporters Without Borders, press freedom is still in «\\xa0a very serious situation\\xa0» in Sudan. Out of a total of 180 countries, Sudan which rated 149 with a score of 35.73 in 2024 from an earlier rating of 148 with a score of 40.83 in 2023.']\n"
     ]
    },
    {
     "data": {
      "application/vnd.jupyter.widget-view+json": {
       "model_id": "db89d947be27461f8ce067c799657dbb",
       "version_major": 2,
       "version_minor": 0
      },
      "text/plain": [
       "Parsing nodes:   0%|          | 0/1 [00:00<?, ?it/s]"
      ]
     },
     "metadata": {},
     "output_type": "display_data"
    },
    {
     "data": {
      "application/vnd.jupyter.widget-view+json": {
       "model_id": "68340f27df0f46b7ad2096734a085e7b",
       "version_major": 2,
       "version_minor": 0
      },
      "text/plain": [
       "Generating embeddings:   0%|          | 0/1 [00:00<?, ?it/s]"
      ]
     },
     "metadata": {},
     "output_type": "display_data"
    },
    {
     "name": "stdout",
     "output_type": "stream",
     "text": [
      "3 Sudan,,, May 3rd  \n",
      "Sudan,,, May 3rd  \n",
      "\n",
      "\n",
      "\n",
      "\n",
      "\n",
      "['2024 News. On May 3th, the Rapid Support Forces (RSF), according to new regulations seen by Sudan Tribune, prohibited all RSF members in  Saudi Arabia from taking photos in military uniform and posting photos or videos on social media platforms. This ban came after the circulation of  video depicting RSF members in Saudi Arabia threatening to attack the Sudanese city of  Port Sudan, leading to the convocation of Saudi Ambassador bin Jaafar by the Sudanese Ministry of Foreign Affairs for clarification.']\n"
     ]
    },
    {
     "data": {
      "application/vnd.jupyter.widget-view+json": {
       "model_id": "847d04c720d245f199a0d2bec0416a1f",
       "version_major": 2,
       "version_minor": 0
      },
      "text/plain": [
       "Parsing nodes:   0%|          | 0/1 [00:00<?, ?it/s]"
      ]
     },
     "metadata": {},
     "output_type": "display_data"
    },
    {
     "data": {
      "application/vnd.jupyter.widget-view+json": {
       "model_id": "f439ab0559534c6cb374761675f5771e",
       "version_major": 2,
       "version_minor": 0
      },
      "text/plain": [
       "Generating embeddings:   0%|          | 0/1 [00:00<?, ?it/s]"
      ]
     },
     "metadata": {},
     "output_type": "display_data"
    },
    {
     "name": "stdout",
     "output_type": "stream",
     "text": [
      "4 Sudan, , Port Sudan,, 05/03/2024\n",
      "Saudi Arabia, , , ,  \n",
      "\n",
      "\n",
      "\n",
      "['2024 News. On May 3rd, the regional director of the World Food Program in Eastern Africa reported that starvation is worsening in Darfur as the violence escalates, and that people are compelled to eat \"grass and peanut shells\". He warned that \"“If assistance doesn’t reach them soon, we risk witnessing widespread starvation and death in Darfur and across other conflict-affected areas in Sudan.” Reuters also reported: \"People across Sudan are taking increasingly desperate measures to survive. In West Darfur, farmers whose lands were plundered by the RSF have eaten the seeds they bought for planting because they have run out of food. In the Kordofan region, people have sold their furniture and clothes to get cash for food. In Khartoum, residents under siege in their homes have picked the leaves off trees and boiled and eaten them.\" In a report published on May 3rd, Famine Early Warning Systems Network (FEWS NET) also warned: \"The assessment of a risk of Famine (IPC Phase 5) warrants great alarm at the same time as underscoring the severity of acute food insecurity anticipated in Sudan under FEWS NET’s most likely scenario. In the most likely scenario, levels of\\nhunger and malnutrition are expected to reach Emergency (IPC Phase 4) with some households in Catastrophe (IPC Phase 5), and humanitarian food assistance needs will rise sharply through the lean season.\" The food shortages are caused by the escalating violence that forcibly displaced millions of people, made farming impossible, and blocked aid delivery, especially in El Fasher that used to be the hub for humanitarian assistance.']\n"
     ]
    },
    {
     "data": {
      "application/vnd.jupyter.widget-view+json": {
       "model_id": "f3123c7dea3242028a2344507d9e3fcb",
       "version_major": 2,
       "version_minor": 0
      },
      "text/plain": [
       "Parsing nodes:   0%|          | 0/1 [00:00<?, ?it/s]"
      ]
     },
     "metadata": {},
     "output_type": "display_data"
    },
    {
     "data": {
      "application/vnd.jupyter.widget-view+json": {
       "model_id": "a6605d5580a148b09af5d3fb6a6b2805",
       "version_major": 2,
       "version_minor": 0
      },
      "text/plain": [
       "Generating embeddings:   0%|          | 0/1 [00:00<?, ?it/s]"
      ]
     },
     "metadata": {},
     "output_type": "display_data"
    },
    {
     "name": "stdout",
     "output_type": "stream",
     "text": [
      "5 Sudan, Eastern Africa, ,  05/03/2024\n",
      "Sudan, West Darfur, ,  \n",
      "Sudan, Kordofan region, ,  \n",
      "Sudan, Khartoum, ,  05/03/2024\n",
      "Sudan, El Fasher, , \n",
      "\n",
      "\n",
      "\n",
      "['2024 News. On May 4th, the RSF reportedly targeted\\xa0 the Sudanese Army positions in Al-Faw, Al Jazira (El Gezira) state with heavy artillery. The attack caused some casualities but failed to stop the Army which is advancing, trying according to sources consulted by Sudan Tribune to encircle «\\xa0Al-Jazira State from three directions: south (Sennar axis), west (Al-Manaqil axis), and east (Al-Faw axis).\\xa0»']\n"
     ]
    },
    {
     "data": {
      "application/vnd.jupyter.widget-view+json": {
       "model_id": "dc6ceebf79034a018a2e66ab1f042a01",
       "version_major": 2,
       "version_minor": 0
      },
      "text/plain": [
       "Parsing nodes:   0%|          | 0/1 [00:00<?, ?it/s]"
      ]
     },
     "metadata": {},
     "output_type": "display_data"
    },
    {
     "data": {
      "application/vnd.jupyter.widget-view+json": {
       "model_id": "e6db8dc18a314d1d97af4aefc4e6f3ad",
       "version_major": 2,
       "version_minor": 0
      },
      "text/plain": [
       "Generating embeddings:   0%|          | 0/1 [00:00<?, ?it/s]"
      ]
     },
     "metadata": {},
     "output_type": "display_data"
    },
    {
     "name": "stdout",
     "output_type": "stream",
     "text": [
      "6 Sudan, Al Jazira (El Gezira) state, Al-Faw,  05/04/2024 \n",
      "\n",
      "\n",
      "\n",
      "['2024 News. On Saturday, May 4th, Colonel al-Taj al-Tijani, commander of the RSF’s West Kordofan sector, threatened to enter the city of al-Fula, the capital of West Kordofan, and liberate it from the grip of the Western Kordofan governor, Adam Karshoum Nour al-Din who is blamed for supporting the SAF. This threat generated panic in the city and led some merchants and medical personnel to flee the city.']\n"
     ]
    },
    {
     "data": {
      "application/vnd.jupyter.widget-view+json": {
       "model_id": "4c73ed5ba5234cc397674b17c3033ab3",
       "version_major": 2,
       "version_minor": 0
      },
      "text/plain": [
       "Parsing nodes:   0%|          | 0/1 [00:00<?, ?it/s]"
      ]
     },
     "metadata": {},
     "output_type": "display_data"
    },
    {
     "data": {
      "application/vnd.jupyter.widget-view+json": {
       "model_id": "38c5325618654870889f8f3adcb4c23c",
       "version_major": 2,
       "version_minor": 0
      },
      "text/plain": [
       "Generating embeddings:   0%|          | 0/1 [00:00<?, ?it/s]"
      ]
     },
     "metadata": {},
     "output_type": "display_data"
    },
    {
     "name": "stdout",
     "output_type": "stream",
     "text": [
      "7 Sudan, West Kordofan, al-Fula,  05/04/2024 \n",
      "\n",
      "['2024 News. From May 4th night to the morning of May 5th, the SAF has continued Artillery shelling targeting mainly positions in Khartoum Bahri and central Khartoum, where the RSF maintains the control of some areas. Observers reported smokes rising from the centre of Khartoum Bahri and the Doroshab suburb north of Khartoum Bahri.\\xa0 According to Sudan Tribune, «\\xa0Since late 2023, the RSF has successfully taken control of army garrisons in four out of five Darfur state capitals: El Geneina, Zalingei, Nyala, and El Daein. Only El Fasher, the capital of North Darfur, remains under army control.\\xa0»']\n"
     ]
    },
    {
     "data": {
      "application/vnd.jupyter.widget-view+json": {
       "model_id": "59efa285a23d41f1981e13033675188e",
       "version_major": 2,
       "version_minor": 0
      },
      "text/plain": [
       "Parsing nodes:   0%|          | 0/1 [00:00<?, ?it/s]"
      ]
     },
     "metadata": {},
     "output_type": "display_data"
    },
    {
     "data": {
      "application/vnd.jupyter.widget-view+json": {
       "model_id": "c2f040dbd7dc464189eb7f6403559620",
       "version_major": 2,
       "version_minor": 0
      },
      "text/plain": [
       "Generating embeddings:   0%|          | 0/1 [00:00<?, ?it/s]"
      ]
     },
     "metadata": {},
     "output_type": "display_data"
    },
    {
     "name": "stdout",
     "output_type": "stream",
     "text": [
      "8 Sudan, Khartoum Bahri, ,  05/04/2024\n",
      "Sudan, Khartoum, ,  05/04/2024\n",
      "Sudan, Darfur, El Geneina, , 12/2023\n",
      "Sudan, Darfur, Zalingei, , 12/2023\n",
      "Sudan, Darfur, Nyala, , 12/2023\n",
      "Sudan, Darfur, El Daein, , 12/2023\n",
      "Sudan, North Darfur, El Fasher, ,  \n",
      "\n",
      "\n",
      "\n",
      "['2024 News. From May 4th night to the morning of May 5th, the SAF has continued Artillery shelling targeting mainly positions in Khartoum Bahri and central Khartoum, where the RSF maintains the control of some areas. Observers reported smokes rising from the centre of Khartoum Bahri and the Doroshab suburb north of Khartoum Bahri.\\xa0 According to Sudan Tribune, «\\xa0Since late 2023, the RSF has successfully taken control of army garrisons in four out of five Darfur state capitals: El Geneina, Zalingei, Nyala, and El Daein. Only El Fasher, the capital of North Darfur, remains under army control.\\xa0»']\n"
     ]
    },
    {
     "data": {
      "application/vnd.jupyter.widget-view+json": {
       "model_id": "b52a1674b8c84ad893a4eedc589e3fea",
       "version_major": 2,
       "version_minor": 0
      },
      "text/plain": [
       "Parsing nodes:   0%|          | 0/1 [00:00<?, ?it/s]"
      ]
     },
     "metadata": {},
     "output_type": "display_data"
    },
    {
     "data": {
      "application/vnd.jupyter.widget-view+json": {
       "model_id": "2eca46e9cdfa4843bf6aeaf219629d80",
       "version_major": 2,
       "version_minor": 0
      },
      "text/plain": [
       "Generating embeddings:   0%|          | 0/1 [00:00<?, ?it/s]"
      ]
     },
     "metadata": {},
     "output_type": "display_data"
    },
    {
     "name": "stdout",
     "output_type": "stream",
     "text": [
      "9 Sudan, Khartoum Bahri, ,  05/04/2024\n",
      "Sudan, Khartoum, ,  05/04/2024\n",
      "Sudan, North Darfur, El Fasher, , \n",
      "Sudan, Darfur, El Geneina, , \n",
      "Sudan, Darfur, Zalingei, , \n",
      "Sudan, Darfur, Nyala, , \n",
      "Sudan, Darfur, El Daein, ,  \n",
      "\n",
      "\n",
      "\n",
      "['2024 News. For nine consecutive days, that is from around April 27 to May 6, the Sudan Armed Forces (SAF)  and the RSF have exchanged artillery shelling,  using Katyusha rockets and various shells, in Babanusa, West Kordofan. The fighting further destroyed the city that many residents had already left.\\nAccording to sources consulted by Sudan War Monitor, the SAF were inside the 22nd Infantry Division base, the last military installation of the Sudan Army’s control in West Kordofan, while the RSF troops fought from the outskirts of the city, sheltering  in residents’ homes and under trees to avoid aircraft bombardment. According to the Sudan War Monitor’s sources, the bombing damaged many civilians’ homes in which RSF fighters were sheltering. The neighborhoods of Al-Salam South, Al-Tarbiyah, Abu Ismail South, Al-Sahafa East, Al-Sahafa West, and the Babanusa Dairy Factory neighborhood were the places where homes were most completely and partially damaged. In addition, government institutions and facilities, such as the buildings of the Sudan Railway Authority (Western Region Headquarters), some schools, and water sources were also damaged.\\nOn May 3rd, according to information received from the Babanusa Emergency Room, four members of the same family were killed as a result of the  violent artillery shelling carried out by the RSF on the Sudan Armed Forces who control the 22nd Infantry Division Headquarters. The family had sought refuge in the 22nd Infantry Division. As a reminder, Babanusa has been the theater of several violent clashes between the RSF and the Sudanese Army since 2023.\\nAccording to the same sources the shelling also, injured or killed a large number of livestock as well as fighters on both the RSF and SAF sides. At least, three RSF fighters and two Army soldiers of the Artillery Corps were killed. So, in total, besides the destruction of homes, there were at least  5 combattants and 4 civilians killed.']\n"
     ]
    },
    {
     "data": {
      "application/vnd.jupyter.widget-view+json": {
       "model_id": "d3cfe109baac4cfa98116cc47e6178f5",
       "version_major": 2,
       "version_minor": 0
      },
      "text/plain": [
       "Parsing nodes:   0%|          | 0/1 [00:00<?, ?it/s]"
      ]
     },
     "metadata": {},
     "output_type": "display_data"
    },
    {
     "data": {
      "application/vnd.jupyter.widget-view+json": {
       "model_id": "8dada7ca7cb340db9726164b4bb26529",
       "version_major": 2,
       "version_minor": 0
      },
      "text/plain": [
       "Generating embeddings:   0%|          | 0/1 [00:00<?, ?it/s]"
      ]
     },
     "metadata": {},
     "output_type": "display_data"
    },
    {
     "name": "stdout",
     "output_type": "stream",
     "text": [
      "10 Sudan, West Kordofan, Babanusa,  April 27 - May 6\n",
      "Sudan, West Kordofan, Babanusa, Al-Salam South, mm/dd/yyyy\n",
      "Sudan, West Kordofan, Babanusa, Al-Tarbiyah, mm/dd/yyyy\n",
      "Sudan, West Kordofan, Babanusa, Abu Ismail South, mm/dd/yyyy\n",
      "Sudan, West Kordofan, Babanusa, Al-Sahafa East, mm/dd/yyyy\n",
      "Sudan, West Kordofan, Babanusa, Al-Sahafa West, mm/dd/yyyy\n",
      "Sudan, West Kordofan, Babanusa, Babanusa Dairy Factory neighborhood, mm/dd/yyyy\n",
      "Sudan, West Kordofan, Babanusa, Sudan Railway Authority (Western Region Headquarters), mm/dd/yyyy\n",
      "Sudan, West Kordofan, Babanusa,  mm/dd/yyyy\n",
      "Sudan, West Kordofan, Babanusa,  mm/dd/yyyy\n",
      "Sudan, West Kordofan, Babanusa,  May 3rd \n",
      "\n",
      "\n",
      "\n",
      "['2024 News. For nine consecutive days, that is from around April 27 to May 6, the Sudan Armed Forces (SAF)  and the RSF have exchanged artillery shelling,  using Katyusha rockets and various shells, in Babanusa, West Kordofan. The fighting further destroyed the city that many residents had already left.\\nAccording to sources consulted by Sudan War Monitor, the SAF were inside the 22nd Infantry Division base, the last military installation of the Sudan Army’s control in West Kordofan, while the RSF troops fought from the outskirts of the city, sheltering  in residents’ homes and under trees to avoid aircraft bombardment. According to the Sudan War Monitor’s sources, the bombing damaged many civilians’ homes in which RSF fighters were sheltering. The neighborhoods of Al-Salam South, Al-Tarbiyah, Abu Ismail South, Al-Sahafa East, Al-Sahafa West, and the Babanusa Dairy Factory neighborhood were those where homes were most completely and partially damaged. In addition, government institutions and facilities, such as the buildings of the Sudan Railway Authority (Western Region Headquarters), some schools, and water sources were also damaged.\\nOn May 3rd, according to information received from the Babanusa Emergency Room, four members of the same family were killed as a result of the  violent artillery shelling carried out by the RSF on the Sudan Armed Forces who control the 22nd Infantry Division Headquarters. The family had sought refuge in the 22nd Infantry Division. As a reminder, Babanusa has been the theater of several violent clashes between the RSF and the Sudanese Army since 2023.According to the same sources the shelling also, injured or killed a large number of livestock as well as fighters on both the RSF and SAF sides. At least, three RSF fighters and two Army soldiers of the Artillery Corps were killed. So, in total, besides the destruction of homes, there were at least  5 combattants and 4 civilians killed.']\n"
     ]
    },
    {
     "data": {
      "application/vnd.jupyter.widget-view+json": {
       "model_id": "9d84b9c450244a7682562bd4f51ff4b0",
       "version_major": 2,
       "version_minor": 0
      },
      "text/plain": [
       "Parsing nodes:   0%|          | 0/1 [00:00<?, ?it/s]"
      ]
     },
     "metadata": {},
     "output_type": "display_data"
    },
    {
     "data": {
      "application/vnd.jupyter.widget-view+json": {
       "model_id": "4afcb96b6d27401c9b08058e7df51783",
       "version_major": 2,
       "version_minor": 0
      },
      "text/plain": [
       "Generating embeddings:   0%|          | 0/1 [00:00<?, ?it/s]"
      ]
     },
     "metadata": {},
     "output_type": "display_data"
    },
    {
     "name": "stdout",
     "output_type": "stream",
     "text": [
      "11 Sudan, West Kordofan, Babanusa, , 04/27/2024\n",
      "Sudan, West Kordofan, Babanusa, , 05/06/2024\n",
      "Sudan, West Kordofan, Babanusa,  , 05/03/2024 \n",
      "\n",
      "\n",
      "\n",
      "['2024 News. On Sunday, May 5th ,Sudanese warplanes conducted airstrikes  targeting agricultural fields where RSF elements are reported located, near Shabarqa, a  critical RSF stronghold and strategic town that is located approximately 25 kilometres East of Wad Madani, El Gezira (aka Al Jazeera) state. Capturing Shabarqa, according to local sources, would open the path towards the Hantoub Bridge on the Blue Nile for the Army.']\n"
     ]
    },
    {
     "data": {
      "application/vnd.jupyter.widget-view+json": {
       "model_id": "fb309d43ffac4eb9b13a8efa97d5bdb8",
       "version_major": 2,
       "version_minor": 0
      },
      "text/plain": [
       "Parsing nodes:   0%|          | 0/1 [00:00<?, ?it/s]"
      ]
     },
     "metadata": {},
     "output_type": "display_data"
    },
    {
     "data": {
      "application/vnd.jupyter.widget-view+json": {
       "model_id": "f09960bed2ec4cbf892e918fef2d53c7",
       "version_major": 2,
       "version_minor": 0
      },
      "text/plain": [
       "Generating embeddings:   0%|          | 0/1 [00:00<?, ?it/s]"
      ]
     },
     "metadata": {},
     "output_type": "display_data"
    },
    {
     "name": "stdout",
     "output_type": "stream",
     "text": [
      "12 Sudan, El Gezira, Shabarqa, ,05/05/2024  \n",
      "\n",
      "['2024 News. For nine consecutive days, that is from around April 27 to May 6, the Sudan Armed Forces (SAF)  and the RSF have exchanged artillery shelling,  using Katyusha rockets and various shells, in Babanusa, West Kordofan. The fighting further destroyed the city that many residents had already left.\\nAccording to sources consulted by Sudan War Monitor, the SAF were inside the 22nd Infantry Division base, the last military installation of the Sudan Army’s control in West Kordofan, while the RSF troops fought from the outskirts of the city, sheltering  in residents’ homes and under trees to avoid aircraft bombardment. According to the Sudan War Monitor’s sources, the bombing damaged many civilians’ homes in which RSF fighters were sheltering. The neighborhoods of Al-Salam South, Al-Tarbiyah, Abu Ismail South, Al-Sahafa East, Al-Sahafa West, and the Babanusa Dairy Factory neighborhood were the places where homes were most completely and partially damaged. In addition, government institutions and facilities, such as the buildings of the Sudan Railway Authority (Western Region Headquarters), some schools, and water sources were also damaged.\\nOn May 3rd, according to information received from the Babanusa Emergency Room, four members of the same family were killed as a result of the  violent artillery shelling carried out by the RSF on the Sudan Armed Forces who control the 22nd Infantry Division Headquarters. The family had sought refuge in the 22nd Infantry Division. As a reminder, Babanusa has been the theater of several violent clashes between the RSF and the Sudanese Army since 2023.\\nAccording to the same sources the shelling also, injured or killed a large number of livestock as well as fighters on both the RSF and SAF sides. At least, three RSF fighters and two Army soldiers of the Artillery Corps were killed. So, in total, besides the destruction of homes, there were at least  5 combattants and 4 civilians killed.']\n"
     ]
    },
    {
     "data": {
      "application/vnd.jupyter.widget-view+json": {
       "model_id": "be41448782884757b00dc58dc719c72b",
       "version_major": 2,
       "version_minor": 0
      },
      "text/plain": [
       "Parsing nodes:   0%|          | 0/1 [00:00<?, ?it/s]"
      ]
     },
     "metadata": {},
     "output_type": "display_data"
    },
    {
     "data": {
      "application/vnd.jupyter.widget-view+json": {
       "model_id": "e361dfedee69418fa0d1c8603309159b",
       "version_major": 2,
       "version_minor": 0
      },
      "text/plain": [
       "Generating embeddings:   0%|          | 0/1 [00:00<?, ?it/s]"
      ]
     },
     "metadata": {},
     "output_type": "display_data"
    },
    {
     "name": "stdout",
     "output_type": "stream",
     "text": [
      "13 Sudan, West Kordofan, Babanusa, , 04/27/2024\n",
      "Sudan, West Kordofan, Babanusa, , 05/06/2024\n",
      "Sudan, West Kordofan, Babanusa,  , 05/03/2024 \n",
      "\n",
      "\n",
      "\n",
      "['2024 News. Early in the morning of the May 7th, the Sudanese Army initiated an offensive and recaptured the Jabal al-Ain military camp,  in  the strategic city of Al-Obeid, capital of North Kordofan State. The camp , which  served as the primary training facility for the Fifth Infantry Division, had been controlled by the RSF since the beginning of the war.  Whereas the RSF claims to still control the camp, the army released  a video confirming their victory and reporting significant enemy casualties and logistical losses.']\n"
     ]
    },
    {
     "data": {
      "application/vnd.jupyter.widget-view+json": {
       "model_id": "388c75e86b0f4e4aa659a6c2f1ea06f4",
       "version_major": 2,
       "version_minor": 0
      },
      "text/plain": [
       "Parsing nodes:   0%|          | 0/1 [00:00<?, ?it/s]"
      ]
     },
     "metadata": {},
     "output_type": "display_data"
    },
    {
     "data": {
      "application/vnd.jupyter.widget-view+json": {
       "model_id": "cd2f29f05724450fa241e9f8256f943f",
       "version_major": 2,
       "version_minor": 0
      },
      "text/plain": [
       "Generating embeddings:   0%|          | 0/1 [00:00<?, ?it/s]"
      ]
     },
     "metadata": {},
     "output_type": "display_data"
    },
    {
     "name": "stdout",
     "output_type": "stream",
     "text": [
      "14 Sudan, North Kordofan State, Al-Obeid, Jabal al-Ain military camp, 05/07/2024  \n",
      "\n",
      "['2024 News. The  Sudan Armed Forces conducted air strikes on RSF positions in Al-Rahad and Umm Rawaba, North Kordofan, for a second consecutive day, and  reportedly caused civilian casualties and significant property damage.']\n"
     ]
    },
    {
     "data": {
      "application/vnd.jupyter.widget-view+json": {
       "model_id": "991743c42e4e4d0486c5185c47e167e2",
       "version_major": 2,
       "version_minor": 0
      },
      "text/plain": [
       "Parsing nodes:   0%|          | 0/1 [00:00<?, ?it/s]"
      ]
     },
     "metadata": {},
     "output_type": "display_data"
    },
    {
     "data": {
      "application/vnd.jupyter.widget-view+json": {
       "model_id": "fa5211bc97ea4cdcb1e6302459408748",
       "version_major": 2,
       "version_minor": 0
      },
      "text/plain": [
       "Generating embeddings:   0%|          | 0/1 [00:00<?, ?it/s]"
      ]
     },
     "metadata": {},
     "output_type": "display_data"
    },
    {
     "name": "stdout",
     "output_type": "stream",
     "text": [
      "15 Sudan, North Kordofan, Al-Rahad,, mm/dd/2024\n",
      "Sudan, North Kordofan, Umm Rawaba,, mm/dd/2024 \n",
      "\n",
      "\n",
      "\n",
      "['2024 News. The  Sudan Armed Forces conducted air strikes on RSF positions in Al-Rahad and Umm Rawaba, North Kordofan, for a second consecutive day, and  reportedly caused civilian casualties and significant property damage.']\n"
     ]
    },
    {
     "data": {
      "application/vnd.jupyter.widget-view+json": {
       "model_id": "b243c6243946430b9a49764dacdf08f1",
       "version_major": 2,
       "version_minor": 0
      },
      "text/plain": [
       "Parsing nodes:   0%|          | 0/1 [00:00<?, ?it/s]"
      ]
     },
     "metadata": {},
     "output_type": "display_data"
    },
    {
     "data": {
      "application/vnd.jupyter.widget-view+json": {
       "model_id": "0386711a11184d238619e85fd215de68",
       "version_major": 2,
       "version_minor": 0
      },
      "text/plain": [
       "Generating embeddings:   0%|          | 0/1 [00:00<?, ?it/s]"
      ]
     },
     "metadata": {},
     "output_type": "display_data"
    },
    {
     "name": "stdout",
     "output_type": "stream",
     "text": [
      "16 Sudan, North Kordofan, Al-Rahad,, mm/dd/2024\n",
      "Sudan, North Kordofan, Umm Rawaba,, mm/dd/2024 \n",
      "\n",
      "\n",
      "\n",
      "['2024 News. On May 8, the International Service for Human Rights denounced various forms of violence targeting civil society activists, lawyers, journalists, and humanitarian aid workers.  \"Dozens of activists and local volunteers were arrested, threatened and prosecuted in several states during the last few weeks. The states of Sennar, Algadaref, and River Nile are targeting activists who support local communities amid approaching famine. Lawyers, journalists, and local humanitarian workers were prevented from working, their homes were raided, and family members were detained or threatened.\"']\n"
     ]
    },
    {
     "data": {
      "application/vnd.jupyter.widget-view+json": {
       "model_id": "29d505c882f342f594b3625ba325bc3d",
       "version_major": 2,
       "version_minor": 0
      },
      "text/plain": [
       "Parsing nodes:   0%|          | 0/1 [00:00<?, ?it/s]"
      ]
     },
     "metadata": {},
     "output_type": "display_data"
    },
    {
     "data": {
      "application/vnd.jupyter.widget-view+json": {
       "model_id": "0d5ba45097274b0081374ace7919d3f3",
       "version_major": 2,
       "version_minor": 0
      },
      "text/plain": [
       "Generating embeddings:   0%|          | 0/1 [00:00<?, ?it/s]"
      ]
     },
     "metadata": {},
     "output_type": "display_data"
    },
    {
     "name": "stdout",
     "output_type": "stream",
     "text": [
      "17 Sudan, Sennar,,, 05/08/2024\n",
      "Sudan, Algadaref,,, 05/08/2024\n",
      "Sudan, River Nile,,, 05/08/2024 \n",
      "\n",
      "\n",
      "\n",
      "['2024 News. On May 9,  Sudan Tribune reported that Salah Al-Tayeb Musa, the head of  the local branch of the Sudanese Congress Party (SCoP) in  Al-Qurashi, Al-Jazira State was reportedly assassinated by  the Military Intelligence. ']\n"
     ]
    },
    {
     "data": {
      "application/vnd.jupyter.widget-view+json": {
       "model_id": "1157db50a6f143c6b13b80279a687381",
       "version_major": 2,
       "version_minor": 0
      },
      "text/plain": [
       "Parsing nodes:   0%|          | 0/1 [00:00<?, ?it/s]"
      ]
     },
     "metadata": {},
     "output_type": "display_data"
    },
    {
     "data": {
      "application/vnd.jupyter.widget-view+json": {
       "model_id": "f6554980ad064e52adfd8f655730654d",
       "version_major": 2,
       "version_minor": 0
      },
      "text/plain": [
       "Generating embeddings:   0%|          | 0/1 [00:00<?, ?it/s]"
      ]
     },
     "metadata": {},
     "output_type": "display_data"
    },
    {
     "name": "stdout",
     "output_type": "stream",
     "text": [
      "18 Sudan, Al-Jazira State, Al-Qurashi,  05/09/2024 \n",
      "\n",
      "['2024 News. On May 9, Sudan Tribune reported that  the Rapid Support Forces (RSF) assassinated Osman Qismallah Ali Abbas, a medical assistant who has been volunteering  in a health center in  Barakat, near Wad Madani,  despite the RSF control of the locality. \\n\\n']\n"
     ]
    },
    {
     "data": {
      "application/vnd.jupyter.widget-view+json": {
       "model_id": "2439611781144fa5bc2d962a5e396330",
       "version_major": 2,
       "version_minor": 0
      },
      "text/plain": [
       "Parsing nodes:   0%|          | 0/1 [00:00<?, ?it/s]"
      ]
     },
     "metadata": {},
     "output_type": "display_data"
    },
    {
     "data": {
      "application/vnd.jupyter.widget-view+json": {
       "model_id": "54dbc74534f44c19b4e2b834f500a7c0",
       "version_major": 2,
       "version_minor": 0
      },
      "text/plain": [
       "Generating embeddings:   0%|          | 0/1 [00:00<?, ?it/s]"
      ]
     },
     "metadata": {},
     "output_type": "display_data"
    },
    {
     "name": "stdout",
     "output_type": "stream",
     "text": [
      "19 Sudan, , Barakat, , 05/09/2024  \n",
      "\n",
      "['2024 News. On May 9, in Khartoum Bahri, the Resistance Committees reported to Sudan Tribune  the deaths of Qais Younis Ali Rakiza and Talab Hamad al-Sayyid Babikir, who were tortured in RSF detention centres. \\n\\n']\n"
     ]
    },
    {
     "data": {
      "application/vnd.jupyter.widget-view+json": {
       "model_id": "35ea43a0bf5345a493f82be422f042c0",
       "version_major": 2,
       "version_minor": 0
      },
      "text/plain": [
       "Parsing nodes:   0%|          | 0/1 [00:00<?, ?it/s]"
      ]
     },
     "metadata": {},
     "output_type": "display_data"
    },
    {
     "data": {
      "application/vnd.jupyter.widget-view+json": {
       "model_id": "69988730efbb441fb678951f11abb81c",
       "version_major": 2,
       "version_minor": 0
      },
      "text/plain": [
       "Generating embeddings:   0%|          | 0/1 [00:00<?, ?it/s]"
      ]
     },
     "metadata": {},
     "output_type": "display_data"
    },
    {
     "name": "stdout",
     "output_type": "stream",
     "text": [
      "20 Sudan, Khartoum Bahri, , 05/09/2024  \n",
      "\n",
      "['2024 News. On May 9, in Khartoum Bahri, the Resistance Committees reported to Sudan Tribune that there was a drone strike on the central market in the Shambat suburb, in Khartoum Bahri, killing at least two civilians. \\n\\n']\n"
     ]
    },
    {
     "data": {
      "application/vnd.jupyter.widget-view+json": {
       "model_id": "cbb6e9cef2384793a275962a2d16272e",
       "version_major": 2,
       "version_minor": 0
      },
      "text/plain": [
       "Parsing nodes:   0%|          | 0/1 [00:00<?, ?it/s]"
      ]
     },
     "metadata": {},
     "output_type": "display_data"
    },
    {
     "data": {
      "application/vnd.jupyter.widget-view+json": {
       "model_id": "dd20cf9919674b7680101d6facfa2461",
       "version_major": 2,
       "version_minor": 0
      },
      "text/plain": [
       "Generating embeddings:   0%|          | 0/1 [00:00<?, ?it/s]"
      ]
     },
     "metadata": {},
     "output_type": "display_data"
    },
    {
     "name": "stdout",
     "output_type": "stream",
     "text": [
      "21 Sudan, Khartoum Bahri, Shambat suburb, central market, 05/09/2024  \n",
      "\n",
      "['2024 News. On May 9, Sudan Tribune reported that the Rapid Support Forces (RSF) have kidnapped  Ali Bishara Mor Turk, a member of the Dar es Salaam Emergency Room, Block 1, in Um Badda locality, west of Omdurman, and taken him to an unknown destination. The RSF was reported to  control the majority of Um Badda, and to have looted and vandalized all main markets, causing severe food shortages. ']\n"
     ]
    },
    {
     "data": {
      "application/vnd.jupyter.widget-view+json": {
       "model_id": "1031bbb774414fc0bb2553ef84669c88",
       "version_major": 2,
       "version_minor": 0
      },
      "text/plain": [
       "Parsing nodes:   0%|          | 0/1 [00:00<?, ?it/s]"
      ]
     },
     "metadata": {},
     "output_type": "display_data"
    },
    {
     "data": {
      "application/vnd.jupyter.widget-view+json": {
       "model_id": "ff3cb9d89ea5425aa9096ea766062d38",
       "version_major": 2,
       "version_minor": 0
      },
      "text/plain": [
       "Generating embeddings:   0%|          | 0/1 [00:00<?, ?it/s]"
      ]
     },
     "metadata": {},
     "output_type": "display_data"
    },
    {
     "name": "stdout",
     "output_type": "stream",
     "text": [
      "22 Sudan, , Um Badda locality, west of Omdurman, 05/09/2024  \n",
      "\n",
      "['2024 News. After three months of security incidents, including looting, harassment and obstructions, the Medecins Sans Frontieres teams suspended on May 9 their work at the Madani Teaching Hospital, \"the only functional hospital for the hundreds of thousands of people in dire need of medical assistance in the capital of Al Jazirah state, Sudan\".']\n"
     ]
    },
    {
     "data": {
      "application/vnd.jupyter.widget-view+json": {
       "model_id": "3944e43af474463198ec94f58d9f215a",
       "version_major": 2,
       "version_minor": 0
      },
      "text/plain": [
       "Parsing nodes:   0%|          | 0/1 [00:00<?, ?it/s]"
      ]
     },
     "metadata": {},
     "output_type": "display_data"
    },
    {
     "data": {
      "application/vnd.jupyter.widget-view+json": {
       "model_id": "75666d6413a74657ae0faa1482ec37e8",
       "version_major": 2,
       "version_minor": 0
      },
      "text/plain": [
       "Generating embeddings:   0%|          | 0/1 [00:00<?, ?it/s]"
      ]
     },
     "metadata": {},
     "output_type": "display_data"
    },
    {
     "name": "stdout",
     "output_type": "stream",
     "text": [
      "23 Sudan, Al Jazirah, Madani Teaching Hospital, , 05/09/2024  \n",
      "\n",
      "['2024 News. On Friday, May 10, in North Kordofan, three people were killed in an RSF attack in Jebel El Dayer during Friday prayers. “The victims had stayed in the village to protect their homes after most residents were displaced to South Kordofan and White Nile state” , according to a resident who spoke with Radio Dabanga.']\n"
     ]
    },
    {
     "data": {
      "application/vnd.jupyter.widget-view+json": {
       "model_id": "f51ce937daf64372977dfe3468060ab7",
       "version_major": 2,
       "version_minor": 0
      },
      "text/plain": [
       "Parsing nodes:   0%|          | 0/1 [00:00<?, ?it/s]"
      ]
     },
     "metadata": {},
     "output_type": "display_data"
    },
    {
     "data": {
      "application/vnd.jupyter.widget-view+json": {
       "model_id": "9027b1ee0f404576869b29d05c952e2b",
       "version_major": 2,
       "version_minor": 0
      },
      "text/plain": [
       "Generating embeddings:   0%|          | 0/1 [00:00<?, ?it/s]"
      ]
     },
     "metadata": {},
     "output_type": "display_data"
    },
    {
     "name": "stdout",
     "output_type": "stream",
     "text": [
      "24 Sudan, North Kordofan, Jebel El Dayer,  05/10/2024 \n",
      "\n",
      "['2024 News. On May 10, In El Gezira, an RSF attack on El Harga Noureldin village, east of Wad Madani, killed at least 13 people and injured several others. Witnesses told Radio Dabanga that the RSF entered the village with heavily armed combat vehicles and armed personnel and launched a violent attack against residents. “The real death toll exceeds the reported numbers. There are bodies still lying in the streets and inside houses”, a resident said. He added that RSF members forcibly expelled residents from their homes and plundered their belongings.']\n"
     ]
    },
    {
     "data": {
      "application/vnd.jupyter.widget-view+json": {
       "model_id": "8a8d88488c3a4af1bccefc38052c1049",
       "version_major": 2,
       "version_minor": 0
      },
      "text/plain": [
       "Parsing nodes:   0%|          | 0/1 [00:00<?, ?it/s]"
      ]
     },
     "metadata": {},
     "output_type": "display_data"
    },
    {
     "data": {
      "application/vnd.jupyter.widget-view+json": {
       "model_id": "f9ee426585c242f3aaf01621869cd4c7",
       "version_major": 2,
       "version_minor": 0
      },
      "text/plain": [
       "Generating embeddings:   0%|          | 0/1 [00:00<?, ?it/s]"
      ]
     },
     "metadata": {},
     "output_type": "display_data"
    },
    {
     "name": "stdout",
     "output_type": "stream",
     "text": [
      "25 Sudan, , El Gezira, El Harga Noureldin village, 05/10/2024  \n",
      "\n",
      "['2024 News. On Friday, May 10, there was heavy fighting in El Fasher, North Darfur between the RSF and the SAF who are supported by the Joint Force of Armed Struggle Movements. The two parties accused each other of initiating the attack and issued contradictory statements, each claiming to have inflicted heavy losses on the enemy. Sources (field commanders and eyewitnesses) consulted by Sudan Tribune reported the following: i) intense fighting with various types of weaponry in the neighborhoods of Al-Manhal School, Al-Borsa, Al-Kahraba, Al-Safa, Al-Jeel, and Factories; ii) numerous casualties, including civilian deaths and injuries. According to UNOCHA, unconfirmed reports indicated on May 12 that the fighting had left at least 27 civilians dead and 130 injured.']\n"
     ]
    },
    {
     "data": {
      "application/vnd.jupyter.widget-view+json": {
       "model_id": "ac9d0692e5094c5a80d757fe561a2fae",
       "version_major": 2,
       "version_minor": 0
      },
      "text/plain": [
       "Parsing nodes:   0%|          | 0/1 [00:00<?, ?it/s]"
      ]
     },
     "metadata": {},
     "output_type": "display_data"
    },
    {
     "data": {
      "application/vnd.jupyter.widget-view+json": {
       "model_id": "d70118ad06eb4c87ab358f3f608463d9",
       "version_major": 2,
       "version_minor": 0
      },
      "text/plain": [
       "Generating embeddings:   0%|          | 0/1 [00:00<?, ?it/s]"
      ]
     },
     "metadata": {},
     "output_type": "display_data"
    },
    {
     "name": "stdout",
     "output_type": "stream",
     "text": [
      "26 Sudan, North Darfur, El Fasher, Al-Manhal School, 05/10/2024\n",
      "Sudan, North Darfur, El Fasher, Al-Borsa, 05/10/2024\n",
      "Sudan, North Darfur, El Fasher, Al-Kahraba, 05/10/2024\n",
      "Sudan, North Darfur, El Fasher, Al-Safa, 05/10/2024\n",
      "Sudan, North Darfur, El Fasher, Al-Jeel, 05/10/2024\n",
      "Sudan, North Darfur, El Fasher, Factories, 05/10/2024\n",
      "Sudan, North Darfur,  , , 05/12/2024 \n",
      "\n",
      "\n",
      "\n",
      "['2024 News. On Friday, May 10, there was heavy fighting in El Fasher, North Darfur between the RSF and the SAF who are supported by the Joint Force of Armed Struggle Movements. The two parties accused each other of initiating the attack and issued contradictory statements, each claiming to have inflicted heavy losses on the enemy. Sources (field commanders and eyewitnesses) consulted by Sudan Tribune reported the following: i) intense fighting with various types of weaponry in the neighborhoods of Al-Manhal School, Al-Borsa, Al-Kahraba, Al-Safa, Al-Jeel, and Factories; ii) numerous casualties, including civilian deaths and injuries. According to UNOCHA, unconfirmed reports indicated on May 12 that the fighting had left at least 27 civilians dead and 130 injured.']\n"
     ]
    },
    {
     "data": {
      "application/vnd.jupyter.widget-view+json": {
       "model_id": "ae995b77dd6d41f4b79aff57031f2ee1",
       "version_major": 2,
       "version_minor": 0
      },
      "text/plain": [
       "Parsing nodes:   0%|          | 0/1 [00:00<?, ?it/s]"
      ]
     },
     "metadata": {},
     "output_type": "display_data"
    },
    {
     "data": {
      "application/vnd.jupyter.widget-view+json": {
       "model_id": "3d362218d6d74d6f96c1bb0134180a88",
       "version_major": 2,
       "version_minor": 0
      },
      "text/plain": [
       "Generating embeddings:   0%|          | 0/1 [00:00<?, ?it/s]"
      ]
     },
     "metadata": {},
     "output_type": "display_data"
    },
    {
     "name": "stdout",
     "output_type": "stream",
     "text": [
      "27 Sudan, North Darfur, El Fasher, Al-Manhal School, 05/10/2024\n",
      "Sudan, North Darfur, El Fasher, Al-Borsa, 05/10/2024\n",
      "Sudan, North Darfur, El Fasher, Al-Kahraba, 05/10/2024\n",
      "Sudan, North Darfur, El Fasher, Al-Safa, 05/10/2024\n",
      "Sudan, North Darfur, El Fasher, Al-Jeel, 05/10/2024\n",
      "Sudan, North Darfur, El Fasher, Factories, 05/10/2024\n",
      "Sudan, North Darfur,  ,  , 05/12/2024 \n",
      "\n",
      "\n",
      "\n",
      "['2024 News. On Friday, May 10, there was heavy fighting in El Fasher, North Darfur between the RSF and the SAF who are supported by the Joint Force of Armed Struggle Movements. The two parties accused each other of initiating the attack and issued contradictory statements, each claiming to have inflicted heavy losses on the enemy. Sources (field commanders and eyewitnesses) consulted by Sudan Tribune reported the following: i) intense fighting with various types of weaponry in the neighborhoods of Al-Manhal School, Al-Borsa, Al-Kahraba, Al-Safa, Al-Jeel, and Factories; ii) numerous casualties, including civilian deaths and injuries. According to UNOCHA, unconfirmed reports indicated on May 12 that the fighting had left at least 27 civilians dead and 130 injured.']\n"
     ]
    },
    {
     "data": {
      "application/vnd.jupyter.widget-view+json": {
       "model_id": "695ff975d5b748d798f4fcad55ddf2ee",
       "version_major": 2,
       "version_minor": 0
      },
      "text/plain": [
       "Parsing nodes:   0%|          | 0/1 [00:00<?, ?it/s]"
      ]
     },
     "metadata": {},
     "output_type": "display_data"
    },
    {
     "data": {
      "application/vnd.jupyter.widget-view+json": {
       "model_id": "b93104fb01e74287be0cbbd5c48ec640",
       "version_major": 2,
       "version_minor": 0
      },
      "text/plain": [
       "Generating embeddings:   0%|          | 0/1 [00:00<?, ?it/s]"
      ]
     },
     "metadata": {},
     "output_type": "display_data"
    },
    {
     "name": "stdout",
     "output_type": "stream",
     "text": [
      "28 Sudan, North Darfur, El Fasher, Al-Manhal School, 05/10/2024\n",
      "Sudan, North Darfur, El Fasher, Al-Borsa, 05/10/2024\n",
      "Sudan, North Darfur, El Fasher, Al-Kahraba, 05/10/2024\n",
      "Sudan, North Darfur, El Fasher, Al-Safa, 05/10/2024\n",
      "Sudan, North Darfur, El Fasher, Al-Jeel, 05/10/2024\n",
      "Sudan, North Darfur, El Fasher, Factories, 05/10/2024\n",
      "Sudan, North Darfur,  ,  , 05/12/2024 \n",
      "\n",
      "\n",
      "\n",
      "['2024 News. On Friday, May 10, there was heavy fighting in El Fasher, North Darfur between the RSF and the SAF who are supported by the Joint Force of Armed Struggle Movements. The two parties accused each other of initiating the attack and issued contradictory statements, each claiming to have inflicted heavy losses on the enemy. Sources (field commanders and eyewitnesses) consulted by Sudan Tribune reported the following: i) intense fighting with various types of weaponry in the neighborhoods of Al-Manhal School, Al-Borsa, Al-Kahraba, Al-Safa, Al-Jeel, and Factories; ii) numerous casualties, including civilian deaths and injuries. According to UNOCHA, unconfirmed reports indicated on May 12 that the fighting had left at least 27 civilians dead and 130 injured.']\n"
     ]
    },
    {
     "data": {
      "application/vnd.jupyter.widget-view+json": {
       "model_id": "cb049fcb07bb4355a76731935acbd72a",
       "version_major": 2,
       "version_minor": 0
      },
      "text/plain": [
       "Parsing nodes:   0%|          | 0/1 [00:00<?, ?it/s]"
      ]
     },
     "metadata": {},
     "output_type": "display_data"
    },
    {
     "data": {
      "application/vnd.jupyter.widget-view+json": {
       "model_id": "300dba0d484b406fa99bf232bfc5c795",
       "version_major": 2,
       "version_minor": 0
      },
      "text/plain": [
       "Generating embeddings:   0%|          | 0/1 [00:00<?, ?it/s]"
      ]
     },
     "metadata": {},
     "output_type": "display_data"
    },
    {
     "name": "stdout",
     "output_type": "stream",
     "text": [
      "29 Sudan, North Darfur, El Fasher, Al-Manhal School, 05/10/2024\n",
      "Sudan, North Darfur, El Fasher, Al-Borsa, 05/10/2024\n",
      "Sudan, North Darfur, El Fasher, Al-Kahraba, 05/10/2024\n",
      "Sudan, North Darfur, El Fasher, Al-Safa, 05/10/2024\n",
      "Sudan, North Darfur, El Fasher, Al-Jeel, 05/10/2024\n",
      "Sudan, North Darfur, El Fasher, Factories, 05/10/2024\n",
      "Sudan, North Darfur,  , , 05/12/2024 \n",
      "\n",
      "\n",
      "\n",
      "['2024 News. On Friday, May 10, there was heavy fighting in El Fasher, North Darfur between the RSF and the SAF who are supported by the Joint Force of Armed Struggle Movements. The two parties accused each other of initiating the attack and issued contradictory statements, each claiming to have inflicted heavy losses on the enemy. Sources (field commanders and eyewitnesses) consulted by Sudan Tribune reported the following: i) intense fighting with various types of weaponry in the neighborhoods of Al-Manhal School, Al-Borsa, Al-Kahraba, Al-Safa, Al-Jeel, and Factories; ii) numerous casualties, including civilian deaths and injuries. According to UNOCHA, unconfirmed reports indicated on May 12 that the fighting had left at least 27 civilians dead and 130 injured.']\n"
     ]
    },
    {
     "data": {
      "application/vnd.jupyter.widget-view+json": {
       "model_id": "2e8f06d745c147babfbd23e2a375cfed",
       "version_major": 2,
       "version_minor": 0
      },
      "text/plain": [
       "Parsing nodes:   0%|          | 0/1 [00:00<?, ?it/s]"
      ]
     },
     "metadata": {},
     "output_type": "display_data"
    },
    {
     "data": {
      "application/vnd.jupyter.widget-view+json": {
       "model_id": "ea8848881a944d8da69a40c26470a0c0",
       "version_major": 2,
       "version_minor": 0
      },
      "text/plain": [
       "Generating embeddings:   0%|          | 0/1 [00:00<?, ?it/s]"
      ]
     },
     "metadata": {},
     "output_type": "display_data"
    },
    {
     "name": "stdout",
     "output_type": "stream",
     "text": [
      "30 Sudan, North Darfur, El Fasher, Al-Manhal School, 05/10/2024\n",
      "Sudan, North Darfur, El Fasher, Al-Borsa, 05/10/2024\n",
      "Sudan, North Darfur, El Fasher, Al-Kahraba, 05/10/2024\n",
      "Sudan, North Darfur, El Fasher, Al-Safa, 05/10/2024\n",
      "Sudan, North Darfur, El Fasher, Al-Jeel, 05/10/2024\n",
      "Sudan, North Darfur, El Fasher, Factories, 05/10/2024\n",
      "Sudan, North Darfur,  ,  , 05/12/2024 \n",
      "\n",
      "\n",
      "\n",
      "['2024 News. On Friday, May 10, there was heavy fighting in El Fasher, North Darfur between the RSF and the SAF who are supported by the Joint Force of Armed Struggle Movements. The two parties accused each other of initiating the attack and issued contradictory statements, each claiming to have inflicted heavy losses on the enemy. Sources (field commanders and eyewitnesses) consulted by Sudan Tribune reported the following: i) intense fighting with various types of weaponry in the neighborhoods of Al-Manhal School, Al-Borsa, Al-Kahraba, Al-Safa, Al-Jeel, and Factories; ii) numerous casualties, including civilian deaths and injuries. According to UNOCHA, unconfirmed reports indicated on May 12 that the fighting had left at least 27 civilians dead and 130 injured.']\n"
     ]
    },
    {
     "data": {
      "application/vnd.jupyter.widget-view+json": {
       "model_id": "83d89c43a71444dda04c9acff2a10c56",
       "version_major": 2,
       "version_minor": 0
      },
      "text/plain": [
       "Parsing nodes:   0%|          | 0/1 [00:00<?, ?it/s]"
      ]
     },
     "metadata": {},
     "output_type": "display_data"
    },
    {
     "data": {
      "application/vnd.jupyter.widget-view+json": {
       "model_id": "50a49ed0962b4265bc852de5f56f2d73",
       "version_major": 2,
       "version_minor": 0
      },
      "text/plain": [
       "Generating embeddings:   0%|          | 0/1 [00:00<?, ?it/s]"
      ]
     },
     "metadata": {},
     "output_type": "display_data"
    },
    {
     "name": "stdout",
     "output_type": "stream",
     "text": [
      "31 Sudan, North Darfur, El Fasher, Al-Manhal School, 05/10/2024\n",
      "Sudan, North Darfur, El Fasher, Al-Borsa, 05/10/2024\n",
      "Sudan, North Darfur, El Fasher, Al-Kahraba, 05/10/2024\n",
      "Sudan, North Darfur, El Fasher, Al-Safa, 05/10/2024\n",
      "Sudan, North Darfur, El Fasher, Al-Jeel, 05/10/2024\n",
      "Sudan, North Darfur, El Fasher, Factories, 05/10/2024\n",
      "Sudan, North Darfur,  , , 05/12/2024 \n",
      "\n",
      "\n",
      "\n",
      "['2024 News. According to UN emergency relief chief Martin Griffiths, a “strike” damaged the roof of the intensive care unit at Southern Hospital in El Fasher Town – the only working hospital in North Darfur state – where\\xa0medical supplies are running dangerously low.']\n"
     ]
    },
    {
     "data": {
      "application/vnd.jupyter.widget-view+json": {
       "model_id": "4ee068c654214e78b5abe4c1e9c0885e",
       "version_major": 2,
       "version_minor": 0
      },
      "text/plain": [
       "Parsing nodes:   0%|          | 0/1 [00:00<?, ?it/s]"
      ]
     },
     "metadata": {},
     "output_type": "display_data"
    },
    {
     "data": {
      "application/vnd.jupyter.widget-view+json": {
       "model_id": "0dffddd8b9ed4886bddbc44d6abcc8cd",
       "version_major": 2,
       "version_minor": 0
      },
      "text/plain": [
       "Generating embeddings:   0%|          | 0/1 [00:00<?, ?it/s]"
      ]
     },
     "metadata": {},
     "output_type": "display_data"
    },
    {
     "name": "stdout",
     "output_type": "stream",
     "text": [
      "32 Sudan, North Darfur, El Fasher, Southern Hospital,  \n",
      "\n",
      "\n",
      "\n",
      "\n",
      "\n",
      "['2024 News. On May 12, in El Obeid, North Kordofan, at least 15 people were killed in the morning  an RSF attack on the Abu Haraz market in the western part of El Obeid, the state capital.\\nWitnesses told Dabanga that residents confronted the RSF during the attack, leading to casualties. The RSF continues to deny involvement in attacks on civilians in North Kordofan villages, instead accusing military intelligence affiliated with the SAF of perpetrating the violence.']\n"
     ]
    },
    {
     "data": {
      "application/vnd.jupyter.widget-view+json": {
       "model_id": "375c643e550741ce91871b75b14b0c9d",
       "version_major": 2,
       "version_minor": 0
      },
      "text/plain": [
       "Parsing nodes:   0%|          | 0/1 [00:00<?, ?it/s]"
      ]
     },
     "metadata": {},
     "output_type": "display_data"
    },
    {
     "data": {
      "application/vnd.jupyter.widget-view+json": {
       "model_id": "a5e3bd0b2dab40cb92ae003e6f256ed4",
       "version_major": 2,
       "version_minor": 0
      },
      "text/plain": [
       "Generating embeddings:   0%|          | 0/1 [00:00<?, ?it/s]"
      ]
     },
     "metadata": {},
     "output_type": "display_data"
    },
    {
     "name": "stdout",
     "output_type": "stream",
     "text": [
      "33 Sudan, North Kordofan, El Obeid, Abu Haraz market, 05/12/2024  \n",
      "\n",
      "['2024 News. On May 12, Sudan Tribune reported that, after investigation, it has \"uncovered evidence suggesting the Rapid Support Forces (RSF) have been executing civilians by hanging inside secret execution chambers across the capital, Khartoum.\" According to accounts by eyewitnesses and activists, there are \"at least 14 secret execution chambers established by the RSF in Khartoum, Bahri, and Omdurman. These facilities are allegedly overseen by officers who act as judges, issuing death sentences for civilians accused of collaborating with the army intelligence.\" Based on video clips of executions, and the accounts of eyewitnesses and activists, the existence of torture or execution rooms were reported in the following neighborhoods: Omdurman’s Wad al-Basir area, Al-Inqaz Street, facing the Weta Factory, Shambat Al-Aradi neighbourhood, the Al-Safia neighbourhood, the Parachute Regiment camp in the Hijra neighbourhood, Al-Kalakla Al-Qubba, Al-Safa,  Al-Kalakla Al-Munawara, and he El-Alamein Sports Club neighbourhoods. \"One resident described the setup: a steel beam near the ceiling, a steel stand in the middle, a strong rope attached to it, and a deep hole dug into the floor.\" Based on estimates provided by the various accounts reported by Sudan Tribune, the number of people who have been  executed thus far is uncertain, but ranges in the dozens.']\n"
     ]
    },
    {
     "data": {
      "application/vnd.jupyter.widget-view+json": {
       "model_id": "eb85e67ced8f4836a16a530580e9afc8",
       "version_major": 2,
       "version_minor": 0
      },
      "text/plain": [
       "Parsing nodes:   0%|          | 0/1 [00:00<?, ?it/s]"
      ]
     },
     "metadata": {},
     "output_type": "display_data"
    },
    {
     "data": {
      "application/vnd.jupyter.widget-view+json": {
       "model_id": "fe283bee6e9944fd8f0f94ed3582af9b",
       "version_major": 2,
       "version_minor": 0
      },
      "text/plain": [
       "Generating embeddings:   0%|          | 0/1 [00:00<?, ?it/s]"
      ]
     },
     "metadata": {},
     "output_type": "display_data"
    },
    {
     "name": "stdout",
     "output_type": "stream",
     "text": [
      "34 Sudan, Khartoum, Wad al-Basir area,  05/12/2024\n",
      "Sudan, Khartoum, Al-Inqaz Street, facing the Weta Factory, 05/12/2024\n",
      "Sudan, Khartoum, Shambat Al-Aradi neighbourhood, 05/12/2024\n",
      "Sudan, Khartoum, Al-Safia neighbourhood, 05/12/2024\n",
      "Sudan, Khartoum, Parachute Regiment camp in the Hijra neighbourhood, 05/12/2024\n",
      "Sudan, Khartoum, Al-Kalakla Al-Qubba, 05/12/2024\n",
      "Sudan, Khartoum, Al-Safa, 05/12/2024\n",
      "Sudan, Khartoum, Al-Kalakla Al-Munawara, 05/12/2024\n",
      "Sudan, Khartoum, El-Alamein Sports Club neighbourhoods, 05/12/2024\n",
      "Sudan, Bahri, , 05/12/2024\n",
      "Sudan, Omdurman, , 05/12/2024 \n",
      "\n",
      "\n",
      "\n",
      "['2024 News. nan']\n"
     ]
    },
    {
     "data": {
      "application/vnd.jupyter.widget-view+json": {
       "model_id": "90abb49b382c40b9b7c707eda316aab1",
       "version_major": 2,
       "version_minor": 0
      },
      "text/plain": [
       "Parsing nodes:   0%|          | 0/1 [00:00<?, ?it/s]"
      ]
     },
     "metadata": {},
     "output_type": "display_data"
    },
    {
     "data": {
      "application/vnd.jupyter.widget-view+json": {
       "model_id": "6e6de1d389ed4569a8054ccbc4a3e112",
       "version_major": 2,
       "version_minor": 0
      },
      "text/plain": [
       "Generating embeddings:   0%|          | 0/1 [00:00<?, ?it/s]"
      ]
     },
     "metadata": {},
     "output_type": "display_data"
    },
    {
     "name": "stdout",
     "output_type": "stream",
     "text": [
      "35   \n",
      "\n",
      "\n",
      "\n",
      "\n",
      "['2024 News. nan']\n"
     ]
    },
    {
     "data": {
      "application/vnd.jupyter.widget-view+json": {
       "model_id": "07af5572675e4413b702ddae6a674430",
       "version_major": 2,
       "version_minor": 0
      },
      "text/plain": [
       "Parsing nodes:   0%|          | 0/1 [00:00<?, ?it/s]"
      ]
     },
     "metadata": {},
     "output_type": "display_data"
    },
    {
     "data": {
      "application/vnd.jupyter.widget-view+json": {
       "model_id": "ad4149c6563d4f67b97b8cb96618c9ab",
       "version_major": 2,
       "version_minor": 0
      },
      "text/plain": [
       "Generating embeddings:   0%|          | 0/1 [00:00<?, ?it/s]"
      ]
     },
     "metadata": {},
     "output_type": "display_data"
    },
    {
     "name": "stdout",
     "output_type": "stream",
     "text": [
      "36   \n",
      "\n",
      "\n",
      "\n",
      "\n",
      "['2024 News. On May 12, violent clashes have continued in El Fasher, the capital of North Darfur,  between the Sudanese Armed Forces (SAF) and its allied militias against the Rapid Support Forces (RSF) at the northern and eastern directions of the city since Friday morning. The  El Fasher Emergency Room reported dozens of civilians  injured and transferred to El Fasher Southern Hospital,  some of them requiring urgent surgical intervention and operations.']\n"
     ]
    },
    {
     "data": {
      "application/vnd.jupyter.widget-view+json": {
       "model_id": "091edc129ec44ad0901e053350ebddf6",
       "version_major": 2,
       "version_minor": 0
      },
      "text/plain": [
       "Parsing nodes:   0%|          | 0/1 [00:00<?, ?it/s]"
      ]
     },
     "metadata": {},
     "output_type": "display_data"
    },
    {
     "data": {
      "application/vnd.jupyter.widget-view+json": {
       "model_id": "8c9b6a7b28d748a3951ee9b5b20726df",
       "version_major": 2,
       "version_minor": 0
      },
      "text/plain": [
       "Generating embeddings:   0%|          | 0/1 [00:00<?, ?it/s]"
      ]
     },
     "metadata": {},
     "output_type": "display_data"
    },
    {
     "name": "stdout",
     "output_type": "stream",
     "text": [
      "37 Sudan, North Darfur, El Fasher, , 05/12/2024 \n",
      "\n",
      "[\"2024 News. On May 12, the old Republican Palace in Khartoum, a historic landmark built in 1832 under Ottoman Turkish rule, was hit by  an Army's airstrike. Video footage of RSF soldiers extinguishing flames in the palace courtyard circulated online that day. The bombing followed intense battles between the SAF and the RSF near the Signal Corps in Khartoum Bahri (Khartoum North), according to local sources consulted by Radio Dabanga.\"]\n"
     ]
    },
    {
     "data": {
      "application/vnd.jupyter.widget-view+json": {
       "model_id": "073f0fce28bb45b7931307e580b3470c",
       "version_major": 2,
       "version_minor": 0
      },
      "text/plain": [
       "Parsing nodes:   0%|          | 0/1 [00:00<?, ?it/s]"
      ]
     },
     "metadata": {},
     "output_type": "display_data"
    },
    {
     "data": {
      "application/vnd.jupyter.widget-view+json": {
       "model_id": "e875bb77a8fc49a6867d79c18280bc64",
       "version_major": 2,
       "version_minor": 0
      },
      "text/plain": [
       "Generating embeddings:   0%|          | 0/1 [00:00<?, ?it/s]"
      ]
     },
     "metadata": {},
     "output_type": "display_data"
    },
    {
     "name": "stdout",
     "output_type": "stream",
     "text": [
      "38 Sudan, Khartoum Bahri, Signal Corps, , 05/12/2024\n",
      "Sudan, Khartoum, Republican Palace, , 05/12/2024  \n",
      "\n",
      "\n",
      "\n",
      "['2024 News. Despite calls for the cessation of hostilities, the RSF has intensified these last three days  its offensive against El Fasher, North Darfur, which has led to an escalation of violent clashes between them and the Army and the pro-Army Joint Forces. The fighting has resulted in numerous deaths and injuries of civilians caught in the crossfire, and forced many to flee Abu Shouk camp. The most impacted areas have been  the densely populated districts  in the south and north of the city,  such as Al-Inqaz, Al-Salam, Al-Wahda, Al-Hijra, Oulad Al-Reef, and Makraka, which were affected by  artillery bombardment.']\n"
     ]
    },
    {
     "data": {
      "application/vnd.jupyter.widget-view+json": {
       "model_id": "e967443d8fb94718b59d2b1cec1afff4",
       "version_major": 2,
       "version_minor": 0
      },
      "text/plain": [
       "Parsing nodes:   0%|          | 0/1 [00:00<?, ?it/s]"
      ]
     },
     "metadata": {},
     "output_type": "display_data"
    },
    {
     "data": {
      "application/vnd.jupyter.widget-view+json": {
       "model_id": "bea99fee3a6448e482c01180a87083bd",
       "version_major": 2,
       "version_minor": 0
      },
      "text/plain": [
       "Generating embeddings:   0%|          | 0/1 [00:00<?, ?it/s]"
      ]
     },
     "metadata": {},
     "output_type": "display_data"
    },
    {
     "name": "stdout",
     "output_type": "stream",
     "text": [
      "39 Sudan, North Darfur, El Fasher, , mm/dd/yyyy  \n",
      "\n",
      "\n",
      "\n",
      "['2024 News. Despite calls for the cessation of hostilities, the RSF has intensified these last three days  its offensive against El Fasher, North Darfur, which has led to an escalation of violent clashes between them and the Army and the pro-Army Joint Forces. The fighting has resulted in numerous deaths and injuries of civilians caught in the crossfire, and forced many to flee Abu Shouk camp. The most impacted areas have been  the densely populated districts  in the south and north of the city,  such as Al-Inqaz, Al-Salam, Al-Wahda, Al-Hijra, Oulad Al-Reef, and Makraka, which were affected by  artillery bombardment.']\n"
     ]
    },
    {
     "data": {
      "application/vnd.jupyter.widget-view+json": {
       "model_id": "e37143205654422a83c4817da846c54f",
       "version_major": 2,
       "version_minor": 0
      },
      "text/plain": [
       "Parsing nodes:   0%|          | 0/1 [00:00<?, ?it/s]"
      ]
     },
     "metadata": {},
     "output_type": "display_data"
    },
    {
     "data": {
      "application/vnd.jupyter.widget-view+json": {
       "model_id": "d952e977b3094ef6aed556dd60ebbba4",
       "version_major": 2,
       "version_minor": 0
      },
      "text/plain": [
       "Generating embeddings:   0%|          | 0/1 [00:00<?, ?it/s]"
      ]
     },
     "metadata": {},
     "output_type": "display_data"
    },
    {
     "name": "stdout",
     "output_type": "stream",
     "text": [
      "40 Sudan, North Darfur, El Fasher,  mm/dd/2024 \n",
      "\n",
      "\n",
      "\n",
      "['2024 News. On Tuesday, May 14, eyewitnesses reported to Sudan War Monitor that an RSF force using a four-wheel drive vehicle with five heavily armed individuals on board attacked the home of a local religious leader after disputes over Zakat as well as a local resistance movement in the city of Ghabish (aka Gbeish), West Kordofan . The attack left 8 people dead and 10 others injured. ']\n"
     ]
    },
    {
     "data": {
      "application/vnd.jupyter.widget-view+json": {
       "model_id": "ebcc3564546f435694646360c15d2c10",
       "version_major": 2,
       "version_minor": 0
      },
      "text/plain": [
       "Parsing nodes:   0%|          | 0/1 [00:00<?, ?it/s]"
      ]
     },
     "metadata": {},
     "output_type": "display_data"
    },
    {
     "data": {
      "application/vnd.jupyter.widget-view+json": {
       "model_id": "0470f700e18b499fba5808b0d1a785a2",
       "version_major": 2,
       "version_minor": 0
      },
      "text/plain": [
       "Generating embeddings:   0%|          | 0/1 [00:00<?, ?it/s]"
      ]
     },
     "metadata": {},
     "output_type": "display_data"
    },
    {
     "name": "stdout",
     "output_type": "stream",
     "text": [
      "41 Sudan, West Kordofan, Ghabish, , 05/14/2024  \n",
      "\n",
      "['2024 News. On May 15, Sudan War Monitor reported that the Rapid Support Forces in the city of Nyala, the capital of South Darfur, has been perceived opponents the past two weeks, especially former army and police personnel in view of recruiting them. More than 80 people have been arrested.\\n\\n']\n"
     ]
    },
    {
     "data": {
      "application/vnd.jupyter.widget-view+json": {
       "model_id": "7c5e1976f0614ca6a88a55ced1c28450",
       "version_major": 2,
       "version_minor": 0
      },
      "text/plain": [
       "Parsing nodes:   0%|          | 0/1 [00:00<?, ?it/s]"
      ]
     },
     "metadata": {},
     "output_type": "display_data"
    },
    {
     "data": {
      "application/vnd.jupyter.widget-view+json": {
       "model_id": "29a52f40507c40468cc5a8b56ee4e3ca",
       "version_major": 2,
       "version_minor": 0
      },
      "text/plain": [
       "Generating embeddings:   0%|          | 0/1 [00:00<?, ?it/s]"
      ]
     },
     "metadata": {},
     "output_type": "display_data"
    },
    {
     "name": "stdout",
     "output_type": "stream",
     "text": [
      "42 Sudan, South Darfur, Nyala, , 05/15/2024  \n",
      "\n",
      "[\"2024 News. Between Friday, May 10 and Wednesday, May 15, violent clashes between the RSF and the SAF supported by allied armed groups  occured in the Eastern and Southern parts of El Fasher. According to reports by MSF, the clashes have resulted in at least  454 casualties who arrived at the city's South Hospital, 56 of whom died. According to a report from North Darfur Ministry of Health, the violence has left 63 individuals and 388 others injured along with the destruction of homes and private property. A higher death toll is expected.\"]\n"
     ]
    },
    {
     "data": {
      "application/vnd.jupyter.widget-view+json": {
       "model_id": "f58014d92b1246e3ac05d825cfba1c1f",
       "version_major": 2,
       "version_minor": 0
      },
      "text/plain": [
       "Parsing nodes:   0%|          | 0/1 [00:00<?, ?it/s]"
      ]
     },
     "metadata": {},
     "output_type": "display_data"
    },
    {
     "data": {
      "application/vnd.jupyter.widget-view+json": {
       "model_id": "edc216b614174eeb85380c9484ef9ed3",
       "version_major": 2,
       "version_minor": 0
      },
      "text/plain": [
       "Generating embeddings:   0%|          | 0/1 [00:00<?, ?it/s]"
      ]
     },
     "metadata": {},
     "output_type": "display_data"
    },
    {
     "name": "stdout",
     "output_type": "stream",
     "text": [
      "43 Sudan, North Darfur, El Fasher, , 05/10/2024\n",
      "Sudan, North Darfur, El Fasher, , 05/15/2024  \n",
      "\n",
      "\n",
      "\n",
      "['2024 News. On Thursday, May 16, a health centre in Um Rawaba was attacked by assailants who plundered medical equipment and medications, according to reports by local residents. This attack is part of coordinated attacks attributed by local people to the RSF.']\n"
     ]
    },
    {
     "data": {
      "application/vnd.jupyter.widget-view+json": {
       "model_id": "6ea27a9f6ba74532b45b10b1f16b3b13",
       "version_major": 2,
       "version_minor": 0
      },
      "text/plain": [
       "Parsing nodes:   0%|          | 0/1 [00:00<?, ?it/s]"
      ]
     },
     "metadata": {},
     "output_type": "display_data"
    },
    {
     "data": {
      "application/vnd.jupyter.widget-view+json": {
       "model_id": "38ae49f33c944334a9bb2177842eb8f5",
       "version_major": 2,
       "version_minor": 0
      },
      "text/plain": [
       "Generating embeddings:   0%|          | 0/1 [00:00<?, ?it/s]"
      ]
     },
     "metadata": {},
     "output_type": "display_data"
    },
    {
     "name": "stdout",
     "output_type": "stream",
     "text": [
      "44 Sudan, , Um Rawaba,, 05/16/2024  \n",
      "\n",
      "['2024 News. On Saturday, May 18, 11 civilians, mostly people waiting for transportantion and residents in the Al-Manara neighbourhood of Omdurman (Khartoum state), were killed as a result of an artillery shelling that local resistance committees\\xa0 attributed to the RSF. Even though, the shells reportedly came from RSF positions in Khartoum North.']\n"
     ]
    },
    {
     "data": {
      "application/vnd.jupyter.widget-view+json": {
       "model_id": "30c12265ea0043fbb569430d09f9a6f5",
       "version_major": 2,
       "version_minor": 0
      },
      "text/plain": [
       "Parsing nodes:   0%|          | 0/1 [00:00<?, ?it/s]"
      ]
     },
     "metadata": {},
     "output_type": "display_data"
    },
    {
     "data": {
      "application/vnd.jupyter.widget-view+json": {
       "model_id": "dad71f6eaca5417d9512d5ab0245a1c8",
       "version_major": 2,
       "version_minor": 0
      },
      "text/plain": [
       "Generating embeddings:   0%|          | 0/1 [00:00<?, ?it/s]"
      ]
     },
     "metadata": {},
     "output_type": "display_data"
    },
    {
     "name": "stdout",
     "output_type": "stream",
     "text": [
      "45 Sudan, Khartoum state, Omdurman, Al-Manara neighbourhood, 05/18/2024  \n",
      "Sudan, Khartoum state, Khartoum North, ,  \n",
      "\n",
      "\n",
      "\n",
      "['2024 News. On Saturday, May 18, El Rahmaniya, a village northwest of Um Rawaba, North Kordofan, was attacked by the RSF, leaving at least 15 dead and several others injured. Scores of houses were burned down. According to residents, other villages around Um Rawaba have experienced, in the past two weeks, similar violence in the past two weeks, including «\\xa0killing, plundering, burning homes, and displacing residents” by RSF fighters. Targeted villages include El Balahat, Ghabsha El Mahata, and other \"villages surrounding the road linking Wad Ashana and Um Rawaba.\" However, the RSF have repeatedly denied any involvement in the violence against civilians and accuse the Sudanese military of that violence.']\n"
     ]
    },
    {
     "data": {
      "application/vnd.jupyter.widget-view+json": {
       "model_id": "ce5f48ce2dec4e798cc0f757d40d0a77",
       "version_major": 2,
       "version_minor": 0
      },
      "text/plain": [
       "Parsing nodes:   0%|          | 0/1 [00:00<?, ?it/s]"
      ]
     },
     "metadata": {},
     "output_type": "display_data"
    },
    {
     "data": {
      "application/vnd.jupyter.widget-view+json": {
       "model_id": "3e09de1f74df4882a825c2901162c0f6",
       "version_major": 2,
       "version_minor": 0
      },
      "text/plain": [
       "Generating embeddings:   0%|          | 0/1 [00:00<?, ?it/s]"
      ]
     },
     "metadata": {},
     "output_type": "display_data"
    },
    {
     "name": "stdout",
     "output_type": "stream",
     "text": [
      "46 Sudan, North Kordofan, El Rahmaniya, , 05/18/2024\n",
      "Sudan, North Kordofan, El Balahat, ,  \n",
      "Sudan, North Kordofan, Ghabsha El Mahata, ,  \n",
      "Sudan, North Kordofan, Villages surrounding the road linking Wad Ashana and Um Rawaba, ,   \n",
      "\n",
      "\n",
      "\n",
      "['2024 News. On Sunday, May 19, the RSF, reportedly, fired heavy artillery that damaged the specialized Women’s, Maternity, and Neonatal Hospital in El Fasher and injured at least 9 people.\\xa0']\n"
     ]
    },
    {
     "data": {
      "application/vnd.jupyter.widget-view+json": {
       "model_id": "85f147ed361348f0a8f82a908ab3d64f",
       "version_major": 2,
       "version_minor": 0
      },
      "text/plain": [
       "Parsing nodes:   0%|          | 0/1 [00:00<?, ?it/s]"
      ]
     },
     "metadata": {},
     "output_type": "display_data"
    },
    {
     "data": {
      "application/vnd.jupyter.widget-view+json": {
       "model_id": "75186b6da1d74161a70acc93908f4f76",
       "version_major": 2,
       "version_minor": 0
      },
      "text/plain": [
       "Generating embeddings:   0%|          | 0/1 [00:00<?, ?it/s]"
      ]
     },
     "metadata": {},
     "output_type": "display_data"
    },
    {
     "name": "stdout",
     "output_type": "stream",
     "text": [
      "47 Sudan, North Darfur, El Fasher, Women’s, Maternity, and Neonatal Hospital, 05/19/2024  \n",
      "\n",
      "['2024 News. In an announcement posted on X on Sunday, May 19, the RSF claimed that it has established control over Um Rawaba, a city in North Kordofan. Listeners of Radio Dabanga reported that fighters affiliated with the RSF plundered the Rawaba Grand Market, robbed and killed a resident at gunpoint  in the market, and have been \"imposing heavy taxes on all merchants.” RSF fighters also reportedly detained several people among the civilians who have  travelling long distances on foot or in carts to reach safer areas” after fleeing violent clashes between the RSF and the Army in Um Rawaba and El Obeid. ']\n"
     ]
    },
    {
     "data": {
      "application/vnd.jupyter.widget-view+json": {
       "model_id": "3019d7cd09e0420ea081cc2373f4386d",
       "version_major": 2,
       "version_minor": 0
      },
      "text/plain": [
       "Parsing nodes:   0%|          | 0/1 [00:00<?, ?it/s]"
      ]
     },
     "metadata": {},
     "output_type": "display_data"
    },
    {
     "data": {
      "application/vnd.jupyter.widget-view+json": {
       "model_id": "3921a847fa014c1f9598aae475b10bb7",
       "version_major": 2,
       "version_minor": 0
      },
      "text/plain": [
       "Generating embeddings:   0%|          | 0/1 [00:00<?, ?it/s]"
      ]
     },
     "metadata": {},
     "output_type": "display_data"
    },
    {
     "name": "stdout",
     "output_type": "stream",
     "text": [
      "48 Sudan, North Kordofan, Um Rawaba,  05/19/2024 \n",
      "\n",
      "\n",
      "\n",
      "['2024 News. On Sunday, May 19, the Rapid Support Forces (RSF) bombed several El Fasher neighbourhoods, including Abu Shouk camp for displaced people. A number of civilians were killed or injured in and around the city.  \"In an interview with Radio Dabanga , activist Hafez Ishag said that several buildings collapsed due to the indiscriminate shelling of El Fasher. The RSF, currently in control of the eastern and northeastern side of the city, used artillery and rocket launchers. “Shells fell on the Hajar Gadou wells, Gashlag El Jeish, the Saudi Hospital, and the Abu Shouk camp for the displaced. They also bombed the Grand Market and western parts of the city,” he said. The injured were transferred to El Fasher Southern Hospital and the Abu Shouk camp health centre. ']\n"
     ]
    },
    {
     "data": {
      "application/vnd.jupyter.widget-view+json": {
       "model_id": "d3822569d74741de9239566b5b356d22",
       "version_major": 2,
       "version_minor": 0
      },
      "text/plain": [
       "Parsing nodes:   0%|          | 0/1 [00:00<?, ?it/s]"
      ]
     },
     "metadata": {},
     "output_type": "display_data"
    },
    {
     "data": {
      "application/vnd.jupyter.widget-view+json": {
       "model_id": "49684147bf71475c89dff3e3f57153a4",
       "version_major": 2,
       "version_minor": 0
      },
      "text/plain": [
       "Generating embeddings:   0%|          | 0/1 [00:00<?, ?it/s]"
      ]
     },
     "metadata": {},
     "output_type": "display_data"
    },
    {
     "name": "stdout",
     "output_type": "stream",
     "text": [
      "49 Sudan, North Darfur, El Fasher, Abu Shouk camp for displaced people, 05/19/2024\n",
      "Sudan, North Darfur, El Fasher, Hajar Gadou wells, 05/19/2024\n",
      "Sudan, North Darfur, El Fasher, Gashlag El Jeish, 05/19/2024\n",
      "Sudan, North Darfur, El Fasher, Saudi Hospital, 05/19/2024\n",
      "Sudan, North Darfur, El Fasher, Grand Market, 05/19/2024  \n",
      "\n",
      "\n",
      "\n",
      "\n",
      "['2024 News. On Monday, May 20th, local residents reported that the RSF  fired heavy artillery at many residential neighbourhoods in El Fasher near the “Kabir” market in El-Fasher. The neighborhoods affected by the shelling include  the Abu Shouk displacement camp, the Al-Azma and Al-Sahafa neighbourhoods within the city, the Al-Salaam Primary School for Girls where one child was injured, and the Al-Timanat Primary School for Girls in the Al-Amal neighbourhood. ']\n"
     ]
    },
    {
     "data": {
      "application/vnd.jupyter.widget-view+json": {
       "model_id": "2ac62d7f70ac4bdb97888ab0fb210098",
       "version_major": 2,
       "version_minor": 0
      },
      "text/plain": [
       "Parsing nodes:   0%|          | 0/1 [00:00<?, ?it/s]"
      ]
     },
     "metadata": {},
     "output_type": "display_data"
    },
    {
     "data": {
      "application/vnd.jupyter.widget-view+json": {
       "model_id": "11b5d23ccd224a69a3ac4e7b3f792028",
       "version_major": 2,
       "version_minor": 0
      },
      "text/plain": [
       "Generating embeddings:   0%|          | 0/1 [00:00<?, ?it/s]"
      ]
     },
     "metadata": {},
     "output_type": "display_data"
    },
    {
     "name": "stdout",
     "output_type": "stream",
     "text": [
      "50 Sudan, North Darfur, El Fasher, Abu Shouk displacement camp, 05/20/2024\n",
      "Sudan, North Darfur, El Fasher, Al-Azma neighbourhood, 05/20/2024\n",
      "Sudan, North Darfur, El Fasher, Al-Sahafa neighbourhood, 05/20/2024\n",
      "Sudan, North Darfur, El Fasher, Al-Salaam Primary School for Girls, 05/20/2024\n",
      "Sudan, North Darfur, El Fasher, Al-Timanat Primary School for Girls, 05/20/2024  \n",
      "\n",
      "\n",
      "\n",
      "['2024 News. On Tuesday, May 21, \"a group affiliated with the Rapid Support Forces (RSF) carried out a second day of deadly attacks in the area of Takina, Kamleen locality, Al Jazirah state, killing at least 18 people and injuring many more.\"']\n"
     ]
    },
    {
     "data": {
      "application/vnd.jupyter.widget-view+json": {
       "model_id": "b718fd11bccf4282bfbd5458c415d55a",
       "version_major": 2,
       "version_minor": 0
      },
      "text/plain": [
       "Parsing nodes:   0%|          | 0/1 [00:00<?, ?it/s]"
      ]
     },
     "metadata": {},
     "output_type": "display_data"
    },
    {
     "data": {
      "application/vnd.jupyter.widget-view+json": {
       "model_id": "af1a0293e8254c9ea1bf9e00aeaf1b6b",
       "version_major": 2,
       "version_minor": 0
      },
      "text/plain": [
       "Generating embeddings:   0%|          | 0/1 [00:00<?, ?it/s]"
      ]
     },
     "metadata": {},
     "output_type": "display_data"
    },
    {
     "name": "stdout",
     "output_type": "stream",
     "text": [
      "51 Sudan, Al Jazirah, Takina, , 05/21/2024  \n",
      "\n",
      "['2024 News. Sudan War Monitor reported on May 21 that the SAF have been  targeting both foreigners and citizens in Gedaref State, especially Ethiopians, arresting at least 16 Ethiopian refugees, according to local sources. This wave of arrests was motivated by the suspicion that the RSF recruits foreign mercenaries.']\n"
     ]
    },
    {
     "data": {
      "application/vnd.jupyter.widget-view+json": {
       "model_id": "7ee7343360dd42f396011ab2bb721bdf",
       "version_major": 2,
       "version_minor": 0
      },
      "text/plain": [
       "Parsing nodes:   0%|          | 0/1 [00:00<?, ?it/s]"
      ]
     },
     "metadata": {},
     "output_type": "display_data"
    },
    {
     "data": {
      "application/vnd.jupyter.widget-view+json": {
       "model_id": "189ab9a6422d48a2b89423af137ae8b6",
       "version_major": 2,
       "version_minor": 0
      },
      "text/plain": [
       "Generating embeddings:   0%|          | 0/1 [00:00<?, ?it/s]"
      ]
     },
     "metadata": {},
     "output_type": "display_data"
    },
    {
     "name": "stdout",
     "output_type": "stream",
     "text": [
      "52 Sudan, Gedaref State,,  05/21/2024 \n",
      "\n",
      "['2024 News. According to an update by Reliefweb on May 21, the Chadian government estimates that the number of Sudanese refugees and returnees in Chad could reach 910,000 by the end of 2024.']\n"
     ]
    },
    {
     "data": {
      "application/vnd.jupyter.widget-view+json": {
       "model_id": "905b7c3c885c48b1a7b2d5220a2c8f84",
       "version_major": 2,
       "version_minor": 0
      },
      "text/plain": [
       "Parsing nodes:   0%|          | 0/1 [00:00<?, ?it/s]"
      ]
     },
     "metadata": {},
     "output_type": "display_data"
    },
    {
     "data": {
      "application/vnd.jupyter.widget-view+json": {
       "model_id": "02b4560ee24c4f2583efde30277ca888",
       "version_major": 2,
       "version_minor": 0
      },
      "text/plain": [
       "Generating embeddings:   0%|          | 0/1 [00:00<?, ?it/s]"
      ]
     },
     "metadata": {},
     "output_type": "display_data"
    },
    {
     "name": "stdout",
     "output_type": "stream",
     "text": [
      "53 Chad,,,, 12/31/2024 \n",
      "\n",
      "\n",
      "\n",
      "['2024 News. On Wednesday, May 22, several people were killed and injured as a result of clashes between the RSF and the Sudanese Army. Witnesses reported fierce fighting involving heavy weaponry  in the northern and eastern parts of the city. The Abu Shouk IDP (Internally Displaced People) Camp Emergency Room also reported that several individuals were injured in the camp as a result of  falling shells.  According to a member of the Abu Shouk Camp Emergency Room,  “RSF militias stormed the camp, committing brutal crimes against unarmed youth, including beatings, torture, detention, and looting.” At least, 18 people were injured.']\n"
     ]
    },
    {
     "data": {
      "application/vnd.jupyter.widget-view+json": {
       "model_id": "723f4c8bf5bc4f2db3baf07ea3f0be1a",
       "version_major": 2,
       "version_minor": 0
      },
      "text/plain": [
       "Parsing nodes:   0%|          | 0/1 [00:00<?, ?it/s]"
      ]
     },
     "metadata": {},
     "output_type": "display_data"
    },
    {
     "data": {
      "application/vnd.jupyter.widget-view+json": {
       "model_id": "1080dd9626bc4a8783f596c404c3e0bc",
       "version_major": 2,
       "version_minor": 0
      },
      "text/plain": [
       "Generating embeddings:   0%|          | 0/1 [00:00<?, ?it/s]"
      ]
     },
     "metadata": {},
     "output_type": "display_data"
    },
    {
     "name": "stdout",
     "output_type": "stream",
     "text": [
      "54 Sudan,,,, northern parts of the city, 05/22/2024\n",
      "Sudan,,,, eastern parts of the city, 05/22/2024\n",
      "Sudan,,,, Abu Shouk IDP Camp, 05/22/2024  \n",
      "\n",
      "\n",
      "\n",
      "['2024 News. Repeated airstrikes on Kabkabiya, a town under the control of the RSF,  in North Darfur on Wednesday, May 22, led to the death of 16 people, among them 12 children. Dozens of others were injured. Nine houses were demolished.\\nResident Adnan Ibrahim reported y that an Antonov dropped a barrel bomb on the Soleng School on Wednesday. Three children died. A second bomb fell on a house in the southern part of the town, killing three people. Several people were wounded.\\nA displaced woman, who preferred to withhold her name for security reasons, told Radio Dabanga that six students at the Osman School Complex were killed when a bomb fell near the school in the Tabiya neighbourhood. Dozens of people were wounded. Three houses collapsed.  A second bomb that fell in the Karkara neighbourhood killed three children, wounded dozens of people, and destroyed six houses. The air raids, which caused great panic among the people, also led to the destruction of two water tanks in the Amiriya and Karkara neighbourhoods, which caused a severe water crisis in several parts of the town.']\n"
     ]
    },
    {
     "data": {
      "application/vnd.jupyter.widget-view+json": {
       "model_id": "89ef1fa0f8fe4ead8cc83ee6a8498622",
       "version_major": 2,
       "version_minor": 0
      },
      "text/plain": [
       "Parsing nodes:   0%|          | 0/1 [00:00<?, ?it/s]"
      ]
     },
     "metadata": {},
     "output_type": "display_data"
    },
    {
     "data": {
      "application/vnd.jupyter.widget-view+json": {
       "model_id": "479b0a74315f4694a7e9f5c410ee9f8a",
       "version_major": 2,
       "version_minor": 0
      },
      "text/plain": [
       "Generating embeddings:   0%|          | 0/1 [00:00<?, ?it/s]"
      ]
     },
     "metadata": {},
     "output_type": "display_data"
    },
    {
     "name": "stdout",
     "output_type": "stream",
     "text": [
      "55 Sudan, North Darfur, Kabkabiya, Soleng School, 05/22/2024\n",
      "Sudan, North Darfur, Kabkabiya, southern part of the town, 05/22/2024\n",
      "Sudan, North Darfur, Kabkabiya, Osman School Complex, Tabiya neighbourhood, 05/22/2024\n",
      "Sudan, North Darfur, Kabkabiya, Karkara neighbourhood, 05/22/2024\n",
      "Sudan, North Darfur, Kabkabiya, Amiriya neighbourhood, 05/22/2024\n",
      "Sudan, North Darfur, Kabkabiya, Karkara neighbourhood, 05/22/2024 \n",
      "\n",
      "\n",
      "\n",
      "['2024 News. In South Darfur’s Kalma camp, reports on Tuesday revealed that 110 individuals have recently died. Sources indicate a concerning rise in potential polio cases alongside acute hunger. Urgent food deliveries are necessary to prevent further fatalities within the camp.']\n"
     ]
    },
    {
     "data": {
      "application/vnd.jupyter.widget-view+json": {
       "model_id": "22dc95ec27544e5bb0b923ece6691f1f",
       "version_major": 2,
       "version_minor": 0
      },
      "text/plain": [
       "Parsing nodes:   0%|          | 0/1 [00:00<?, ?it/s]"
      ]
     },
     "metadata": {},
     "output_type": "display_data"
    },
    {
     "data": {
      "application/vnd.jupyter.widget-view+json": {
       "model_id": "a65f2f7975424b60b13bf716363a30bd",
       "version_major": 2,
       "version_minor": 0
      },
      "text/plain": [
       "Generating embeddings:   0%|          | 0/1 [00:00<?, ?it/s]"
      ]
     },
     "metadata": {},
     "output_type": "display_data"
    },
    {
     "name": "stdout",
     "output_type": "stream",
     "text": [
      "56 Sudan, South Darfur, Kalma camp,  02/14/2024 \n",
      "\n",
      "['2024 News. Following indiscriminate shelling that affected parts of the Abu Shouk Camp, in El Fasher, North Darfur, and widespread abuses by the RSF, there has been a mass exodus from the camp residents towards unknown destinations.  An  estimated 60% of residents have fled the Abu Shouk camp, according to Sudan Tribune who indicated that \" The camp, home to approximately 400,000 displaced persons, was overrun by the RSF on Wednesday [May 22], triggering a wave of killings, lootings, arrests, and arson, particularly in sections 27 and 28.']\n"
     ]
    },
    {
     "data": {
      "application/vnd.jupyter.widget-view+json": {
       "model_id": "a87b7a623f5c4b73a977fedf518c922a",
       "version_major": 2,
       "version_minor": 0
      },
      "text/plain": [
       "Parsing nodes:   0%|          | 0/1 [00:00<?, ?it/s]"
      ]
     },
     "metadata": {},
     "output_type": "display_data"
    },
    {
     "data": {
      "application/vnd.jupyter.widget-view+json": {
       "model_id": "5ca21e0c7b994799be5257e8e1e31d50",
       "version_major": 2,
       "version_minor": 0
      },
      "text/plain": [
       "Generating embeddings:   0%|          | 0/1 [00:00<?, ?it/s]"
      ]
     },
     "metadata": {},
     "output_type": "display_data"
    },
    {
     "name": "stdout",
     "output_type": "stream",
     "text": [
      "57 Sudan, North Darfur, El Fasher, Abu Shouk Camp, 05/22/2024  \n",
      "\n",
      "['2024 News. On Saturday, May 25,  Minni Minnawi, the governor of North Darfur, declared that at least 30 civilians and 17 soldiers were killed in attacks in El Fasher.  He commented: “This shows that the goal of those attacking el-Fasher is to exterminate the city.”']\n"
     ]
    },
    {
     "data": {
      "application/vnd.jupyter.widget-view+json": {
       "model_id": "ab98c71a92e74a8d9ba20288ccf1a4d5",
       "version_major": 2,
       "version_minor": 0
      },
      "text/plain": [
       "Parsing nodes:   0%|          | 0/1 [00:00<?, ?it/s]"
      ]
     },
     "metadata": {},
     "output_type": "display_data"
    },
    {
     "data": {
      "application/vnd.jupyter.widget-view+json": {
       "model_id": "61fd4ae79caa4a1db0e09807ec2eca75",
       "version_major": 2,
       "version_minor": 0
      },
      "text/plain": [
       "Generating embeddings:   0%|          | 0/1 [00:00<?, ?it/s]"
      ]
     },
     "metadata": {},
     "output_type": "display_data"
    },
    {
     "name": "stdout",
     "output_type": "stream",
     "text": [
      "58 Sudan, North Darfur, El Fasher,  05/25/2024 \n",
      "\n",
      "['2024 News. Médecins Sans Frontières (MSF) confirmed the death of one of their employees in an artillery strike on his home in central El Fasher.  The employee was an  off-duty watchman working at the MSF pharmacy and was reportedly killed when shelling struck his home near El Fasher’s main market on May 25.']\n"
     ]
    },
    {
     "data": {
      "application/vnd.jupyter.widget-view+json": {
       "model_id": "63069d4ddcda4ddda2bb6c8effb12706",
       "version_major": 2,
       "version_minor": 0
      },
      "text/plain": [
       "Parsing nodes:   0%|          | 0/1 [00:00<?, ?it/s]"
      ]
     },
     "metadata": {},
     "output_type": "display_data"
    },
    {
     "data": {
      "application/vnd.jupyter.widget-view+json": {
       "model_id": "af85188834db46f7901ec94eea0c157a",
       "version_major": 2,
       "version_minor": 0
      },
      "text/plain": [
       "Generating embeddings:   0%|          | 0/1 [00:00<?, ?it/s]"
      ]
     },
     "metadata": {},
     "output_type": "display_data"
    },
    {
     "name": "stdout",
     "output_type": "stream",
     "text": [
      "59 Sudan, North Darfur, El Fasher, near El Fasher’s main market, 05/25  \n",
      "\n",
      "['2024 News. A report by the ACAPS Sudan Analysis Hub, reviewed by Sudan Tribune on May 25, documented the obstruction of the aid delivery system in Sudan by the warring parties. Based on data from the UN Migration Age (IOM) data, the report cited the slow processes for bringing staff and supplies into Sudan, delays in moving medical and food supplies from Port Sudan to other areas, the effects of the influx on adequate food, water and healthcare, and the fact that insecurity in neighbouring states, particularly Khartoum and Aj Jazirah, continues to hinder movement of aid workers and supplies.']\n"
     ]
    },
    {
     "data": {
      "application/vnd.jupyter.widget-view+json": {
       "model_id": "a402c264f9b84fdfbeb06932263d423d",
       "version_major": 2,
       "version_minor": 0
      },
      "text/plain": [
       "Parsing nodes:   0%|          | 0/1 [00:00<?, ?it/s]"
      ]
     },
     "metadata": {},
     "output_type": "display_data"
    },
    {
     "data": {
      "application/vnd.jupyter.widget-view+json": {
       "model_id": "e48c9f9d8d3a4de0b49cd1039ac5e429",
       "version_major": 2,
       "version_minor": 0
      },
      "text/plain": [
       "Generating embeddings:   0%|          | 0/1 [00:00<?, ?it/s]"
      ]
     },
     "metadata": {},
     "output_type": "display_data"
    },
    {
     "name": "stdout",
     "output_type": "stream",
     "text": [
      "60 Sudan, , Port Sudan,, 05/25/2024\n",
      "Sudan, Khartoum,,  \n",
      "Sudan, Aj Jazirah,,   \n",
      "\n",
      "\n",
      "\n",
      "['2024 News. Since the beginning of the war in April 2023 to May 2024, a campaign dedicated to combating rape and sexual violence in Sudan, “Together Against Rape and Sexual Violence,” has documented 377 cases of rape, including 131 cases involving young girls. There were at least  99 cases documented in North Darfur, 89 in Al Jazirah, 56 in Central Darfur, 55 in Khartoum, and 22 in Al-Obeid. The remaining cases are spread across other regions.']\n"
     ]
    },
    {
     "data": {
      "application/vnd.jupyter.widget-view+json": {
       "model_id": "8b16be566bf94dd4bc22e76808dad23c",
       "version_major": 2,
       "version_minor": 0
      },
      "text/plain": [
       "Parsing nodes:   0%|          | 0/1 [00:00<?, ?it/s]"
      ]
     },
     "metadata": {},
     "output_type": "display_data"
    },
    {
     "data": {
      "application/vnd.jupyter.widget-view+json": {
       "model_id": "210b508b565140618bb4ff233656fbb0",
       "version_major": 2,
       "version_minor": 0
      },
      "text/plain": [
       "Generating embeddings:   0%|          | 0/1 [00:00<?, ?it/s]"
      ]
     },
     "metadata": {},
     "output_type": "display_data"
    },
    {
     "name": "stdout",
     "output_type": "stream",
     "text": [
      "61 Sudan, North Darfur, , ,  \n",
      "Sudan, Al Jazirah, , ,  \n",
      "Sudan, Central Darfur, , ,  \n",
      "Sudan, Khartoum, , ,  \n",
      "Sudan, Al-Obeid, , ,  \n",
      "\n",
      "\n",
      "\n",
      "\n",
      "\n",
      "['2024 News. Since the beginning of the war in April 2023 to May 2024, a campaign dedicated to combating rape and sexual violence in Sudan, “Together Against Rape and Sexual Violence,” has documented 377 cases of rape, including 131 cases involving young girls. There were at least  99 cases documented in North Darfur, 89 in Al Jazirah, 56 in Central Darfur, 55 in Khartoum, and 22 in Al-Obeid. The remaining cases are spread across other regions.']\n"
     ]
    },
    {
     "data": {
      "application/vnd.jupyter.widget-view+json": {
       "model_id": "f379ec46835b43ffa6c6007e207a978a",
       "version_major": 2,
       "version_minor": 0
      },
      "text/plain": [
       "Parsing nodes:   0%|          | 0/1 [00:00<?, ?it/s]"
      ]
     },
     "metadata": {},
     "output_type": "display_data"
    },
    {
     "data": {
      "application/vnd.jupyter.widget-view+json": {
       "model_id": "a22bff98631a4dc1b40da9c6c4682057",
       "version_major": 2,
       "version_minor": 0
      },
      "text/plain": [
       "Generating embeddings:   0%|          | 0/1 [00:00<?, ?it/s]"
      ]
     },
     "metadata": {},
     "output_type": "display_data"
    },
    {
     "name": "stdout",
     "output_type": "stream",
     "text": [
      "62 Sudan, North Darfur, , ,  \n",
      "Sudan, Al Jazirah, , ,  \n",
      "Sudan, Central Darfur, , ,  \n",
      "Sudan, Khartoum, , ,  \n",
      "Sudan, Al-Obeid, , ,  \n",
      "\n",
      "\n",
      "\n",
      "\n",
      "\n",
      "['2024 News. Since the beginning of the war in April 2023 to May 2024, a campaign dedicated to combating rape and sexual violence in Sudan, “Together Against Rape and Sexual Violence,” has documented 377 cases of rape, including 131 cases involving young girls. There were at least  99 cases documented in North Darfur, 89 in Al Jazirah, 56 in Central Darfur, 55 in Khartoum, and 22 in Al-Obeid. The remaining cases are spread across other regions.']\n"
     ]
    },
    {
     "data": {
      "application/vnd.jupyter.widget-view+json": {
       "model_id": "f4ec103adf8c4867abab9fb85ac20b4e",
       "version_major": 2,
       "version_minor": 0
      },
      "text/plain": [
       "Parsing nodes:   0%|          | 0/1 [00:00<?, ?it/s]"
      ]
     },
     "metadata": {},
     "output_type": "display_data"
    },
    {
     "data": {
      "application/vnd.jupyter.widget-view+json": {
       "model_id": "042971c6cf1141cbbd3c0d3b5f944430",
       "version_major": 2,
       "version_minor": 0
      },
      "text/plain": [
       "Generating embeddings:   0%|          | 0/1 [00:00<?, ?it/s]"
      ]
     },
     "metadata": {},
     "output_type": "display_data"
    },
    {
     "name": "stdout",
     "output_type": "stream",
     "text": [
      "63 Sudan, North Darfur, , , \n",
      "Sudan, Al Jazirah, , , \n",
      "Sudan, Central Darfur, , , \n",
      "Sudan, Khartoum, , , \n",
      "Sudan, Al-Obeid, , ,  \n",
      "\n",
      "\n",
      "\n",
      "['2024 News. Since the beginning of the war in April 2023 to May 2024, a campaign dedicated to combating rape and sexual violence in Sudan, “Together Against Rape and Sexual Violence,” has documented 377 cases of rape, including 131 cases involving young girls. There were at least  99 cases documented in North Darfur, 89 in Al Jazirah, 56 in Central Darfur, 55 in Khartoum, and 22 in Al-Obeid. The remaining cases are spread across other regions.']\n"
     ]
    },
    {
     "data": {
      "application/vnd.jupyter.widget-view+json": {
       "model_id": "f1e67e49f85440ca97bc7bcb8915246b",
       "version_major": 2,
       "version_minor": 0
      },
      "text/plain": [
       "Parsing nodes:   0%|          | 0/1 [00:00<?, ?it/s]"
      ]
     },
     "metadata": {},
     "output_type": "display_data"
    },
    {
     "data": {
      "application/vnd.jupyter.widget-view+json": {
       "model_id": "a4b986f3dc5d4c65986446ae7b577c9d",
       "version_major": 2,
       "version_minor": 0
      },
      "text/plain": [
       "Generating embeddings:   0%|          | 0/1 [00:00<?, ?it/s]"
      ]
     },
     "metadata": {},
     "output_type": "display_data"
    },
    {
     "name": "stdout",
     "output_type": "stream",
     "text": [
      "64 Sudan, North Darfur, , ,  \n",
      "Sudan, Al Jazirah, , ,  \n",
      "Sudan, Central Darfur, , ,  \n",
      "Sudan, Khartoum, , ,  \n",
      "Sudan, Al-Obeid, , ,  \n",
      "\n",
      "\n",
      "\n",
      "\n",
      "\n",
      "['2024 News. Since the beginning of the war in April 2023 to May 2024, a campaign dedicated to combating rape and sexual violence in Sudan, “Together Against Rape and Sexual Violence,” has documented 377 cases of rape, including 131 cases involving young girls. There were at least  99 cases documented in North Darfur, 89 in Al Jazirah, 56 in Central Darfur, 55 in Khartoum, and 22 in Al-Obeid. The remaining cases are spread across other regions.']\n"
     ]
    },
    {
     "data": {
      "application/vnd.jupyter.widget-view+json": {
       "model_id": "3bf8c38f948a4024a84adaf0e8797829",
       "version_major": 2,
       "version_minor": 0
      },
      "text/plain": [
       "Parsing nodes:   0%|          | 0/1 [00:00<?, ?it/s]"
      ]
     },
     "metadata": {},
     "output_type": "display_data"
    },
    {
     "data": {
      "application/vnd.jupyter.widget-view+json": {
       "model_id": "685b921d97d34cb48275fcd4883b621b",
       "version_major": 2,
       "version_minor": 0
      },
      "text/plain": [
       "Generating embeddings:   0%|          | 0/1 [00:00<?, ?it/s]"
      ]
     },
     "metadata": {},
     "output_type": "display_data"
    },
    {
     "name": "stdout",
     "output_type": "stream",
     "text": [
      "65 Sudan, North Darfur, , ,  \n",
      "Sudan, Al Jazirah, , ,  \n",
      "Sudan, Central Darfur, , ,  \n",
      "Sudan, Khartoum, , ,  \n",
      "Sudan, Al-Obeid, , ,  \n",
      "\n",
      "\n",
      "\n",
      "\n",
      "\n",
      "[\"2024 News. On Saturday, May 25, from five  until eight o’clock in the evening, heavy fighting resumed between the RSF and the SAF  in Babanusa, West Kordofan after the RSF launched anr attack against the Sudanese army’s 22nd Infantry Division base on the western side of that city. Military sources reported at least 5 fighters  killed and 20 injured on the RSF side, and on the Army's side, 7 killed and others injured. This makes a total of at least 12, a number confirmed by Sudan War Monitor.\"]\n"
     ]
    },
    {
     "data": {
      "application/vnd.jupyter.widget-view+json": {
       "model_id": "647d92eaa71b4d58ac0c540364d88a78",
       "version_major": 2,
       "version_minor": 0
      },
      "text/plain": [
       "Parsing nodes:   0%|          | 0/1 [00:00<?, ?it/s]"
      ]
     },
     "metadata": {},
     "output_type": "display_data"
    },
    {
     "data": {
      "application/vnd.jupyter.widget-view+json": {
       "model_id": "262ed524a0664319ab2b324a1ef88780",
       "version_major": 2,
       "version_minor": 0
      },
      "text/plain": [
       "Generating embeddings:   0%|          | 0/1 [00:00<?, ?it/s]"
      ]
     },
     "metadata": {},
     "output_type": "display_data"
    },
    {
     "name": "stdout",
     "output_type": "stream",
     "text": [
      "66 Sudan, West Kordofan, Babanusa, , 05/25/2024  \n",
      "\n",
      "['2024 News. On  Saturday, May 25, Gandahar Market in Ombada, just west of Omdurman, was heavily damaged by a fire  allegedly caused by an airstrike by the Sudan Armed Forces. Using geolocation, Sudan War Monitor was able to verify the location of the incident (15.649768, 32.389874), and satellite images corroborated the date, but could not confirm the exact death toll or the cause of the damage.The Rapid Support Forces (RSF), which control the area, produced videos of the aftermath of the blast, showing at least 12 bodies, many of them charred beyond recognition.\\n']\n"
     ]
    },
    {
     "data": {
      "application/vnd.jupyter.widget-view+json": {
       "model_id": "266be681a258401a89c1c5240442ef82",
       "version_major": 2,
       "version_minor": 0
      },
      "text/plain": [
       "Parsing nodes:   0%|          | 0/1 [00:00<?, ?it/s]"
      ]
     },
     "metadata": {},
     "output_type": "display_data"
    },
    {
     "data": {
      "application/vnd.jupyter.widget-view+json": {
       "model_id": "1948f42ea70e46f7af80a77e397f2d33",
       "version_major": 2,
       "version_minor": 0
      },
      "text/plain": [
       "Generating embeddings:   0%|          | 0/1 [00:00<?, ?it/s]"
      ]
     },
     "metadata": {},
     "output_type": "display_data"
    },
    {
     "name": "stdout",
     "output_type": "stream",
     "text": [
      "67 Sudan, , Gandahar Market in Ombada,  05/25/2024 \n",
      "\n",
      "['2024 News. MSF teams at the Southern Hospital in El Fasher, North Darfur,  have documented 123 deaths and over 930 injuries in the past two weeks alone. Other estimates place the death toll at 134. (On Friday,   clashes between the Sudanese army, armed movements, and the Rapid Support Forces (RSF) left at least  22 dead and over 110 injured, according to Ibrahim Abdallah Khater, General Director of Health in North Darfur State.) Thousands of residents have fled the city, seeking refuge in areas controlled by the Sudan Liberation Movement (SLM) under Abdel Wahid Nur.']\n"
     ]
    },
    {
     "data": {
      "application/vnd.jupyter.widget-view+json": {
       "model_id": "171f79c2a4ed44e1914c6ca9ac8da3a2",
       "version_major": 2,
       "version_minor": 0
      },
      "text/plain": [
       "Parsing nodes:   0%|          | 0/1 [00:00<?, ?it/s]"
      ]
     },
     "metadata": {},
     "output_type": "display_data"
    },
    {
     "data": {
      "application/vnd.jupyter.widget-view+json": {
       "model_id": "670497c534e146abbc559b6ab9be2941",
       "version_major": 2,
       "version_minor": 0
      },
      "text/plain": [
       "Generating embeddings:   0%|          | 0/1 [00:00<?, ?it/s]"
      ]
     },
     "metadata": {},
     "output_type": "display_data"
    },
    {
     "name": "stdout",
     "output_type": "stream",
     "text": [
      "68 Sudan, North Darfur, El Fasher, , mm/dd/yyyy\n",
      "Sudan, North Darfur,  , , Friday \n",
      "\n",
      "\n",
      "\n",
      "['2024 News. As a result of the intensification of fighting between the RSF and the Army who is backed by the Joint Force of Armed Struggle Movements, both the security and huminitarian situation has deteriorated according to several reports. The Dar El Salam Emergency Room in North Darfur said in a statement yesterday that almost 20,000 displaced people have fled to the locality to escape fighting in El Fasher and other areas in the past weeks, most of whom are staying with host families.\\n“There are 11 shelters, 8 of which are schools, in Dar El Salam. The displaced are living in difficult conditions due to the lack of external assistance from humanitarian organisations”. Whereas the SAF claims that it has “successfully expelled the RSF outside of the eastern borders of El Fasher”,  the RSF declared on May 26 that it epelled an attack by the SAF in El Fasher on May 25 and accused the army and allies of sheltering in displaced camps and using civilians as human shields.']\n"
     ]
    },
    {
     "data": {
      "application/vnd.jupyter.widget-view+json": {
       "model_id": "a0875e0257ad455e9b07f9128c0ab38c",
       "version_major": 2,
       "version_minor": 0
      },
      "text/plain": [
       "Parsing nodes:   0%|          | 0/1 [00:00<?, ?it/s]"
      ]
     },
     "metadata": {},
     "output_type": "display_data"
    },
    {
     "data": {
      "application/vnd.jupyter.widget-view+json": {
       "model_id": "bc9d3ef709dd4efb94d4500cf5f6c8e9",
       "version_major": 2,
       "version_minor": 0
      },
      "text/plain": [
       "Generating embeddings:   0%|          | 0/1 [00:00<?, ?it/s]"
      ]
     },
     "metadata": {},
     "output_type": "display_data"
    },
    {
     "name": "stdout",
     "output_type": "stream",
     "text": [
      "69 Sudan, North Darfur, El Fasher, , mm/25/2023\n",
      "Sudan, North Darfur, Dar El Salam, ,  \n",
      "Sudan, North Darfur, El Fasher, , mm/26/2023 \n",
      "\n",
      "\n",
      "\n",
      "['2024 News. On Monday, May 27th, Joint Forces, under the command of the Sudan Liberation Movement led by Minni Arko Minawi recaptured the Golo reservoir west of El-Fasher. The reservoir, the primary water source for the North Darfur capital, had been briefly seized by the Rapid Support Forces (RSF).']\n"
     ]
    },
    {
     "data": {
      "application/vnd.jupyter.widget-view+json": {
       "model_id": "0a0529e8415a4c819d3b5d1e74d0edf7",
       "version_major": 2,
       "version_minor": 0
      },
      "text/plain": [
       "Parsing nodes:   0%|          | 0/1 [00:00<?, ?it/s]"
      ]
     },
     "metadata": {},
     "output_type": "display_data"
    },
    {
     "data": {
      "application/vnd.jupyter.widget-view+json": {
       "model_id": "118fdb405d79475fb7d0d2fc82ac2f94",
       "version_major": 2,
       "version_minor": 0
      },
      "text/plain": [
       "Generating embeddings:   0%|          | 0/1 [00:00<?, ?it/s]"
      ]
     },
     "metadata": {},
     "output_type": "display_data"
    },
    {
     "name": "stdout",
     "output_type": "stream",
     "text": [
      "70 Sudan, North Darfur, El-Fasher, Golo reservoir, 05/27/2024  \n",
      "\n",
      "['2024 News. Battles around the Golo water reservoir, west of El Fasher, intensified, amid contradictory reports about control of the area.  The RSF posted video clips on social media announcing their control of the Golo reservoir yesterday. Meanwhile, a military source told Radio Dabanga that the paramilitaries had not taken control of the reservoir and confirmed that battles over it were ongoing. Later that day, video clips showed RSF soldiers blocking the water supply from the Golo reservoir to El Fasher, suggesting they had control over the reservoir.']\n"
     ]
    },
    {
     "data": {
      "application/vnd.jupyter.widget-view+json": {
       "model_id": "746e1f41285141ec9371223342edf9cf",
       "version_major": 2,
       "version_minor": 0
      },
      "text/plain": [
       "Parsing nodes:   0%|          | 0/1 [00:00<?, ?it/s]"
      ]
     },
     "metadata": {},
     "output_type": "display_data"
    },
    {
     "data": {
      "application/vnd.jupyter.widget-view+json": {
       "model_id": "9dddafc7b5c5406687c75b93b0d31aa2",
       "version_major": 2,
       "version_minor": 0
      },
      "text/plain": [
       "Generating embeddings:   0%|          | 0/1 [00:00<?, ?it/s]"
      ]
     },
     "metadata": {},
     "output_type": "display_data"
    },
    {
     "name": "stdout",
     "output_type": "stream",
     "text": [
      "71 Sudan, North Darfur, El Fasher, Golo water reservoir,  \n",
      "Sudan, North Darfur, El Fasher, Golo water reservoir,  \n",
      "\n",
      "\n",
      "\n",
      "['2024 News. On May 27, Save the Children reported that the number of attacks on schools has increased in Sudan since the beginning of the war with \"88 reports of violent incidents and most schools now closed\". The recorded incidents included \"airstrikes on schools resulting in the killing and injury of students and teachers, torturing of teachers, killing and abduction of teachers and sexual violence against students inside education facilities. Other incidents included occupation of schools by armed groups, use of schools as weapons storage facilities, and battles fought on education premises.\" \\n ']\n"
     ]
    },
    {
     "data": {
      "application/vnd.jupyter.widget-view+json": {
       "model_id": "e6df5efd01464178aa9d84c559537329",
       "version_major": 2,
       "version_minor": 0
      },
      "text/plain": [
       "Parsing nodes:   0%|          | 0/1 [00:00<?, ?it/s]"
      ]
     },
     "metadata": {},
     "output_type": "display_data"
    },
    {
     "data": {
      "application/vnd.jupyter.widget-view+json": {
       "model_id": "20eeaaf45a0b4be7bae5362170a1f14b",
       "version_major": 2,
       "version_minor": 0
      },
      "text/plain": [
       "Generating embeddings:   0%|          | 0/1 [00:00<?, ?it/s]"
      ]
     },
     "metadata": {},
     "output_type": "display_data"
    },
    {
     "name": "stdout",
     "output_type": "stream",
     "text": [
      "72 Sudan,,, ,05/27/2024  \n",
      "\n",
      "['2024 News. The Sudanese Armed Forces (SAF) reportedly shot down a Rapid Support Forces (RSF) drone in El Fasher, capital of North Darfur, on Tuesday, while the RSF continued to fire shells at multiple neighbourhoods in the city. A SAF airstrike reportedly set a hospital in Kutum on fire that day.']\n"
     ]
    },
    {
     "data": {
      "application/vnd.jupyter.widget-view+json": {
       "model_id": "f4f85debb35245a6935445c6cbbad9a8",
       "version_major": 2,
       "version_minor": 0
      },
      "text/plain": [
       "Parsing nodes:   0%|          | 0/1 [00:00<?, ?it/s]"
      ]
     },
     "metadata": {},
     "output_type": "display_data"
    },
    {
     "data": {
      "application/vnd.jupyter.widget-view+json": {
       "model_id": "2a26477bbe10437097ce70d4fae2787e",
       "version_major": 2,
       "version_minor": 0
      },
      "text/plain": [
       "Generating embeddings:   0%|          | 0/1 [00:00<?, ?it/s]"
      ]
     },
     "metadata": {},
     "output_type": "display_data"
    },
    {
     "name": "stdout",
     "output_type": "stream",
     "text": [
      "73 Sudan, North Darfur, El Fasher, , 02/28/2024\n",
      "Sudan, North Darfur, Kutum, , 02/28/2024  \n",
      "\n",
      "\n",
      "\n",
      "['2024 News.  \"On May 28, 2024, a pro-RSF account on the X platform posted a video showing active fires in several buildings at the Kutum Teaching Hospital. Kutum is 100 kilometers northwest of the besieged city of El Fasher, the capital of North Darfur state. The spokesperson said in the video that the air strikes completely destroyed the hospital\\'s electricity system, as well as the maternity ward, noting the presence of women in the hospital. He added that this is the second time the hospital has been bombed. The video shows explosion marks on the walls of the buildings, similar to those caused by explosions as a result of bombing. The incident comes in a series of documented incidents of the armed forces\\' destruction of health facilities, infrastructure, oil facilities, commercial buildings and citizens\\' homes. Coordinates: 14.202419, 24.660617\"   (Verbatim report from the source) . A listener of Radio Dabanga in El Fasher confirmed that SAF warplanes bombed the hospital of Kutum, which is located northwest of El Fasher on Tuesday, May 28 in the evening, “killing and injuring many patients and destroying parts of the hospital”. The listener also reported that SAF shot down  the same day an RSF drone iin El Salam, a neighbourhood in the southern part of the city in response to the RSF artillery shelling.\\n']\n"
     ]
    },
    {
     "data": {
      "application/vnd.jupyter.widget-view+json": {
       "model_id": "bb90b22348e14341b0f0493bfe5b731e",
       "version_major": 2,
       "version_minor": 0
      },
      "text/plain": [
       "Parsing nodes:   0%|          | 0/1 [00:00<?, ?it/s]"
      ]
     },
     "metadata": {},
     "output_type": "display_data"
    },
    {
     "data": {
      "application/vnd.jupyter.widget-view+json": {
       "model_id": "7a9a304d82a44ba48d845814e3b58600",
       "version_major": 2,
       "version_minor": 0
      },
      "text/plain": [
       "Generating embeddings:   0%|          | 0/1 [00:00<?, ?it/s]"
      ]
     },
     "metadata": {},
     "output_type": "display_data"
    },
    {
     "name": "stdout",
     "output_type": "stream",
     "text": [
      "74 Sudan, North Darfur, Kutum, , 05/28/2024\n",
      "Sudan, North Darfur, El Fasher, Al Salam Neighbourhood, 05/28/2024  \n",
      "\n",
      "\n",
      "\n",
      "['2024 News. On Thursday, May 30, UN Resident and Humanitarian Coordinator for Sudan Clementine Nkweta-Salami reported that the following:  «\\xa0Families, including children and elderly people, are being prevented from leaving the city as they search for safety.We are receiving deeply worrying reports that medical facilities, displacement camps, and critical civilian infrastructure have been targeted by parties to the conflict.Many parts of Al Fasher have been left without electricity or water. A growing proportion of the population has limited access to basic necessities and essential services, including food and healthcare.\\xa0»']\n"
     ]
    },
    {
     "data": {
      "application/vnd.jupyter.widget-view+json": {
       "model_id": "4e901fded03e4a40acc3dd1348ea883b",
       "version_major": 2,
       "version_minor": 0
      },
      "text/plain": [
       "Parsing nodes:   0%|          | 0/1 [00:00<?, ?it/s]"
      ]
     },
     "metadata": {},
     "output_type": "display_data"
    },
    {
     "data": {
      "application/vnd.jupyter.widget-view+json": {
       "model_id": "82698b6952f54ff8b0b43d2595737e4d",
       "version_major": 2,
       "version_minor": 0
      },
      "text/plain": [
       "Generating embeddings:   0%|          | 0/1 [00:00<?, ?it/s]"
      ]
     },
     "metadata": {},
     "output_type": "display_data"
    },
    {
     "name": "stdout",
     "output_type": "stream",
     "text": [
      "75 Sudan, , Al Fasher,  05/30/2024 \n",
      "\n",
      "['2024 News. On Friday, May 31, at least ten people were killed during intense artillery shelling by the Rapid Support Forces (RSF) on densely populated neighbourhoods in El-Fasher, including Al-Inqadh, Al-Amal, Birinja, Al-Kifah, and Al-Salam,” along with the South Hospital,\\xa0the only medical facility that is still operational in the  North Darfur capital city. ']\n"
     ]
    },
    {
     "data": {
      "application/vnd.jupyter.widget-view+json": {
       "model_id": "b328ea655fa3472e81e9ce754541eaa0",
       "version_major": 2,
       "version_minor": 0
      },
      "text/plain": [
       "Parsing nodes:   0%|          | 0/1 [00:00<?, ?it/s]"
      ]
     },
     "metadata": {},
     "output_type": "display_data"
    },
    {
     "data": {
      "application/vnd.jupyter.widget-view+json": {
       "model_id": "40b1a08ba8cb4eed9bafb6b0d8f8cf04",
       "version_major": 2,
       "version_minor": 0
      },
      "text/plain": [
       "Generating embeddings:   0%|          | 0/1 [00:00<?, ?it/s]"
      ]
     },
     "metadata": {},
     "output_type": "display_data"
    },
    {
     "name": "stdout",
     "output_type": "stream",
     "text": [
      "76 Sudan, North Darfur, El Fasher, Al-Inqadh, 05/31/2024\n",
      "Sudan, North Darfur, El Fasher, Al-Amal, 05/31/2024\n",
      "Sudan, North Darfur, El Fasher, Birinja, 05/31/2024\n",
      "Sudan, North Darfur, El Fasher, Al-Kifah, 05/31/2024\n",
      "Sudan, North Darfur, El Fasher, Al-Salam, 05/31/2024\n",
      "Sudan, North Darfur, El Fasher, South Hospital, 05/31/2024  \n",
      "\n",
      "\n",
      "\n",
      "['2024 News. On May 31, the RSF launched a heavy artillery attack on the “Major Five” border area, which separates Al-Jazirah State from Al-Faw locality in Gedaref State. The Sudanese army responded to the attack in the Al-Faw axis with heavy artillery fire. The Army and allied troops are stationed in Al-Faw and Al-Khiyari areas in Gedaref State, adjacent to Al-Jazirah State, within three axes and trying to recapture Al-Jazirah from the RSF.']\n"
     ]
    },
    {
     "data": {
      "application/vnd.jupyter.widget-view+json": {
       "model_id": "0e7e8217bc4c4d0b98008d9cb66265c3",
       "version_major": 2,
       "version_minor": 0
      },
      "text/plain": [
       "Parsing nodes:   0%|          | 0/1 [00:00<?, ?it/s]"
      ]
     },
     "metadata": {},
     "output_type": "display_data"
    },
    {
     "data": {
      "application/vnd.jupyter.widget-view+json": {
       "model_id": "7929601d2ff544c3aa774258250d1ed2",
       "version_major": 2,
       "version_minor": 0
      },
      "text/plain": [
       "Generating embeddings:   0%|          | 0/1 [00:00<?, ?it/s]"
      ]
     },
     "metadata": {},
     "output_type": "display_data"
    },
    {
     "name": "stdout",
     "output_type": "stream",
     "text": [
      "77 Sudan, Al-Jazirah State,  Major Five border area, mm/31/2024\n",
      "Sudan, Gedaref State, Al-Faw axis, mm/31/2024 \n",
      "Sudan, Gedaref State, Al-Faw, mm/31/2024\n",
      "Sudan, Gedaref State, Al-Khiyari areas, mm/31/2024  \n",
      "\n",
      "\n",
      "\n"
     ]
    }
   ],
   "source": [
    "\n",
    "import faiss\n",
    "import os\n",
    "import openai\n",
    "\n",
    "d=768\n",
    "faiss_index=faiss.IndexFlatL2(d)\n",
    "\n",
    "os.environ['OPENAI_API_KEY'] = 'lm-studio'\n",
    "os.environ['OPENAI_API_BASE'] = 'http://localhost:1234/v1'\n",
    "\n",
    "openai.api_key = os.getenv('OPENAI_API_KEY')\n",
    "openai.api_base = os.getenv('OPENAI_API_BASE')\n",
    "\n",
    "import re\n",
    "def format_year(date_str):\n",
    "    # Search for patterns that capture full year '2023' or '2024'\n",
    "    match = re.search(r'\\b(2023|2024)\\b', date_str)\n",
    "    if match:\n",
    "        return match.group(0) + ' News. '  # Directly return the matched year\n",
    "\n",
    "    # Search for patterns that capture '23' or '24' not surrounded by other digits\n",
    "    match = re.search(r'(?<!\\d)(23|24)(?!\\d)', date_str)\n",
    "    if match:\n",
    "        return '20' + match.group(0) + ' News. ' # Convert '23' to '2023', '24' to '2024'\n",
    "\n",
    "    return None\n",
    "\n",
    "    \n",
    "from llama_index import Document\n",
    "import pandas as pd\n",
    "from llama_index import VectorStoreIndex, StorageContext\n",
    "from llama_index.vector_stores.faiss import FaissVectorStore\n",
    "\n",
    "# Load CSV data\n",
    "df = pd.read_csv('Sudan_Incident_Log_May.csv', encoding='utf-8')\n",
    "\n",
    "df['formatted_year'] = df['Date'].apply(format_year)\n",
    "\n",
    "df['Geo_Meta_data']=None\n",
    "for i, row in df.iterrows(): \n",
    "    faiss_index = faiss.IndexFlatL2(d)\n",
    "    text = str(row['formatted_year']) + str(row['Incident Narrative'])\n",
    "    text_list=[text]\n",
    "    print(text_list)\n",
    "    documents = [Document(text=t) for t in text_list]\n",
    "    \n",
    "    vector_store = FaissVectorStore(faiss_index=faiss_index)\n",
    "    storage_context = StorageContext.from_defaults(vector_store=vector_store)\n",
    "    index = VectorStoreIndex.from_documents(documents, storage_context=storage_context, show_progress=True)\n",
    "    query = \"\"\"Identify the geographic locations and dates where the incidents occurred in the format 'country, state, location, specifics about the location, mm/dd/yyyy'. \n",
    "    Ensure that each line includes the complete location and its corresponding date, separated by a comma. \n",
    "    For example, if the incident occurred in El Fasher, the capital of North Darfur, and the actual incidents took place in Al Salam Neighbourhood, \n",
    "    then the output should be in the format: 'Sudan, North Darfur, El Fasher, Al Salam Neighbourhood, mm/dd/yyyy'. \n",
    "    If the specifics about the location are missing, omit that part of the format but ensure the rest is preserved.\n",
    "    Make sure to include only the real date associated with the incident. If there is no date available, do not insert a placeholder date. \n",
    "    List each location and its corresponding date on a separate line. Do not include any explanations or additional information in the output.\"\"\"\n",
    "    response = index.as_query_engine(similarity_top_k=1).query(query)\n",
    "\n",
    "    article_metadata_detected_str = response.response\n",
    "\n",
    "    print(str(i) + \" \"+ article_metadata_detected_str)\n",
    "    df.at[i,'Geo_Meta_data'] = article_metadata_detected_str\n",
    "    #if i%100==0 and i!=0:\n",
    "        #index=i/100\n",
    "df.drop('formatted_year', axis=1)\n",
    "df.to_csv('Sudan_May_IncidentLog_prompt_optimization.csv', index=False, encoding='utf-8')\n"
   ]
  },
  {
   "cell_type": "code",
   "execution_count": 22,
   "metadata": {},
   "outputs": [
    {
     "name": "stdout",
     "output_type": "stream",
     "text": [
      "Number of vectors in Faiss index: 2\n"
     ]
    }
   ],
   "source": []
  }
 ],
 "metadata": {
  "kernelspec": {
   "display_name": "Python 3",
   "language": "python",
   "name": "python3"
  },
  "language_info": {
   "codemirror_mode": {
    "name": "ipython",
    "version": 3
   },
   "file_extension": ".py",
   "mimetype": "text/x-python",
   "name": "python",
   "nbconvert_exporter": "python",
   "pygments_lexer": "ipython3",
   "version": "3.9.18"
  }
 },
 "nbformat": 4,
 "nbformat_minor": 2
}
